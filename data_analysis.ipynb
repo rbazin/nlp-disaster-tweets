{
 "cells": [
  {
   "cell_type": "code",
   "execution_count": 1,
   "metadata": {},
   "outputs": [],
   "source": [
    "import numpy as np\n",
    "import pandas as pd\n",
    "import matplotlib.pyplot as plt\n",
    "import seaborn as sns\n",
    "import os\n",
    "from tqdm import tqdm\n",
    "from sklearn.model_selection import train_test_split\n",
    "from torch.utils.data import Dataset, DataLoader\n",
    "import torch\n",
    "import torch.nn as nn\n",
    "import torch.nn.functional as F\n",
    "from torch.utils.data import TensorDataset, DataLoader, Dataset, random_split"
   ]
  },
  {
   "cell_type": "code",
   "execution_count": 2,
   "metadata": {},
   "outputs": [
    {
     "data": {
      "text/html": [
       "<div>\n",
       "<style scoped>\n",
       "    .dataframe tbody tr th:only-of-type {\n",
       "        vertical-align: middle;\n",
       "    }\n",
       "\n",
       "    .dataframe tbody tr th {\n",
       "        vertical-align: top;\n",
       "    }\n",
       "\n",
       "    .dataframe thead th {\n",
       "        text-align: right;\n",
       "    }\n",
       "</style>\n",
       "<table border=\"1\" class=\"dataframe\">\n",
       "  <thead>\n",
       "    <tr style=\"text-align: right;\">\n",
       "      <th></th>\n",
       "      <th>id</th>\n",
       "      <th>keyword</th>\n",
       "      <th>location</th>\n",
       "      <th>text</th>\n",
       "      <th>target</th>\n",
       "    </tr>\n",
       "  </thead>\n",
       "  <tbody>\n",
       "    <tr>\n",
       "      <th>0</th>\n",
       "      <td>1</td>\n",
       "      <td>NaN</td>\n",
       "      <td>NaN</td>\n",
       "      <td>Our Deeds are the Reason of this #earthquake M...</td>\n",
       "      <td>1</td>\n",
       "    </tr>\n",
       "    <tr>\n",
       "      <th>1</th>\n",
       "      <td>4</td>\n",
       "      <td>NaN</td>\n",
       "      <td>NaN</td>\n",
       "      <td>Forest fire near La Ronge Sask. Canada</td>\n",
       "      <td>1</td>\n",
       "    </tr>\n",
       "    <tr>\n",
       "      <th>2</th>\n",
       "      <td>5</td>\n",
       "      <td>NaN</td>\n",
       "      <td>NaN</td>\n",
       "      <td>All residents asked to 'shelter in place' are ...</td>\n",
       "      <td>1</td>\n",
       "    </tr>\n",
       "    <tr>\n",
       "      <th>3</th>\n",
       "      <td>6</td>\n",
       "      <td>NaN</td>\n",
       "      <td>NaN</td>\n",
       "      <td>13,000 people receive #wildfires evacuation or...</td>\n",
       "      <td>1</td>\n",
       "    </tr>\n",
       "    <tr>\n",
       "      <th>4</th>\n",
       "      <td>7</td>\n",
       "      <td>NaN</td>\n",
       "      <td>NaN</td>\n",
       "      <td>Just got sent this photo from Ruby #Alaska as ...</td>\n",
       "      <td>1</td>\n",
       "    </tr>\n",
       "  </tbody>\n",
       "</table>\n",
       "</div>"
      ],
      "text/plain": [
       "   id keyword location                                               text  \\\n",
       "0   1     NaN      NaN  Our Deeds are the Reason of this #earthquake M...   \n",
       "1   4     NaN      NaN             Forest fire near La Ronge Sask. Canada   \n",
       "2   5     NaN      NaN  All residents asked to 'shelter in place' are ...   \n",
       "3   6     NaN      NaN  13,000 people receive #wildfires evacuation or...   \n",
       "4   7     NaN      NaN  Just got sent this photo from Ruby #Alaska as ...   \n",
       "\n",
       "   target  \n",
       "0       1  \n",
       "1       1  \n",
       "2       1  \n",
       "3       1  \n",
       "4       1  "
      ]
     },
     "execution_count": 2,
     "metadata": {},
     "output_type": "execute_result"
    }
   ],
   "source": [
    "train_df = pd.read_csv('./train.csv')\n",
    "train_df.head()"
   ]
  },
  {
   "cell_type": "code",
   "execution_count": 3,
   "metadata": {},
   "outputs": [
    {
     "data": {
      "text/html": [
       "<div>\n",
       "<style scoped>\n",
       "    .dataframe tbody tr th:only-of-type {\n",
       "        vertical-align: middle;\n",
       "    }\n",
       "\n",
       "    .dataframe tbody tr th {\n",
       "        vertical-align: top;\n",
       "    }\n",
       "\n",
       "    .dataframe thead th {\n",
       "        text-align: right;\n",
       "    }\n",
       "</style>\n",
       "<table border=\"1\" class=\"dataframe\">\n",
       "  <thead>\n",
       "    <tr style=\"text-align: right;\">\n",
       "      <th></th>\n",
       "      <th>id</th>\n",
       "      <th>keyword</th>\n",
       "      <th>location</th>\n",
       "      <th>text</th>\n",
       "    </tr>\n",
       "  </thead>\n",
       "  <tbody>\n",
       "    <tr>\n",
       "      <th>0</th>\n",
       "      <td>0</td>\n",
       "      <td>NaN</td>\n",
       "      <td>NaN</td>\n",
       "      <td>Just happened a terrible car crash</td>\n",
       "    </tr>\n",
       "    <tr>\n",
       "      <th>1</th>\n",
       "      <td>2</td>\n",
       "      <td>NaN</td>\n",
       "      <td>NaN</td>\n",
       "      <td>Heard about #earthquake is different cities, s...</td>\n",
       "    </tr>\n",
       "    <tr>\n",
       "      <th>2</th>\n",
       "      <td>3</td>\n",
       "      <td>NaN</td>\n",
       "      <td>NaN</td>\n",
       "      <td>there is a forest fire at spot pond, geese are...</td>\n",
       "    </tr>\n",
       "    <tr>\n",
       "      <th>3</th>\n",
       "      <td>9</td>\n",
       "      <td>NaN</td>\n",
       "      <td>NaN</td>\n",
       "      <td>Apocalypse lighting. #Spokane #wildfires</td>\n",
       "    </tr>\n",
       "    <tr>\n",
       "      <th>4</th>\n",
       "      <td>11</td>\n",
       "      <td>NaN</td>\n",
       "      <td>NaN</td>\n",
       "      <td>Typhoon Soudelor kills 28 in China and Taiwan</td>\n",
       "    </tr>\n",
       "  </tbody>\n",
       "</table>\n",
       "</div>"
      ],
      "text/plain": [
       "   id keyword location                                               text\n",
       "0   0     NaN      NaN                 Just happened a terrible car crash\n",
       "1   2     NaN      NaN  Heard about #earthquake is different cities, s...\n",
       "2   3     NaN      NaN  there is a forest fire at spot pond, geese are...\n",
       "3   9     NaN      NaN           Apocalypse lighting. #Spokane #wildfires\n",
       "4  11     NaN      NaN      Typhoon Soudelor kills 28 in China and Taiwan"
      ]
     },
     "execution_count": 3,
     "metadata": {},
     "output_type": "execute_result"
    }
   ],
   "source": [
    "test_df = pd.read_csv('./test.csv')\n",
    "test_df.head()"
   ]
  },
  {
   "cell_type": "code",
   "execution_count": 4,
   "metadata": {},
   "outputs": [
    {
     "name": "stdout",
     "output_type": "stream",
     "text": [
      "<class 'pandas.core.frame.DataFrame'>\n",
      "RangeIndex: 7613 entries, 0 to 7612\n",
      "Data columns (total 5 columns):\n",
      " #   Column    Non-Null Count  Dtype \n",
      "---  ------    --------------  ----- \n",
      " 0   id        7613 non-null   int64 \n",
      " 1   keyword   7552 non-null   object\n",
      " 2   location  5080 non-null   object\n",
      " 3   text      7613 non-null   object\n",
      " 4   target    7613 non-null   int64 \n",
      "dtypes: int64(2), object(3)\n",
      "memory usage: 297.5+ KB\n"
     ]
    }
   ],
   "source": [
    "train_df.info()"
   ]
  },
  {
   "cell_type": "code",
   "execution_count": 5,
   "metadata": {},
   "outputs": [
    {
     "name": "stdout",
     "output_type": "stream",
     "text": [
      "<class 'pandas.core.frame.DataFrame'>\n",
      "RangeIndex: 3263 entries, 0 to 3262\n",
      "Data columns (total 4 columns):\n",
      " #   Column    Non-Null Count  Dtype \n",
      "---  ------    --------------  ----- \n",
      " 0   id        3263 non-null   int64 \n",
      " 1   keyword   3237 non-null   object\n",
      " 2   location  2158 non-null   object\n",
      " 3   text      3263 non-null   object\n",
      "dtypes: int64(1), object(3)\n",
      "memory usage: 102.1+ KB\n"
     ]
    }
   ],
   "source": [
    "test_df.info()"
   ]
  },
  {
   "cell_type": "code",
   "execution_count": 6,
   "metadata": {},
   "outputs": [
    {
     "data": {
      "text/plain": [
       "count     5080\n",
       "unique    3341\n",
       "top        USA\n",
       "freq       104\n",
       "Name: location, dtype: object"
      ]
     },
     "execution_count": 6,
     "metadata": {},
     "output_type": "execute_result"
    }
   ],
   "source": [
    "train_df[\"location\"].describe()"
   ]
  },
  {
   "cell_type": "code",
   "execution_count": 7,
   "metadata": {},
   "outputs": [
    {
     "data": {
      "text/plain": [
       "USA                    104\n",
       "New York                71\n",
       "United States           50\n",
       "London                  45\n",
       "Canada                  29\n",
       "                      ... \n",
       "MontrÌ©al, QuÌ©bec       1\n",
       "Montreal                 1\n",
       "ÌÏT: 6.4682,3.18287      1\n",
       "Live4Heed??              1\n",
       "Lincoln                  1\n",
       "Name: location, Length: 3341, dtype: int64"
      ]
     },
     "execution_count": 7,
     "metadata": {},
     "output_type": "execute_result"
    }
   ],
   "source": [
    "train_df[\"location\"].value_counts()"
   ]
  },
  {
   "cell_type": "code",
   "execution_count": 8,
   "metadata": {},
   "outputs": [
    {
     "data": {
      "text/plain": [
       "<AxesSubplot: >"
      ]
     },
     "execution_count": 8,
     "metadata": {},
     "output_type": "execute_result"
    },
    {
     "data": {
      "image/png": "[encoded data removed]",
      "text/plain": [
       "<Figure size 640x480 with 1 Axes>"
      ]
     },
     "metadata": {},
     "output_type": "display_data"
    }
   ],
   "source": [
    "train_df[\"location\"].value_counts(normalize=True).head(20).plot(kind=\"barh\")"
   ]
  },
  {
   "cell_type": "code",
   "execution_count": 9,
   "metadata": {},
   "outputs": [
    {
     "data": {
      "text/plain": [
       "count           7552\n",
       "unique           221\n",
       "top       fatalities\n",
       "freq              45\n",
       "Name: keyword, dtype: object"
      ]
     },
     "execution_count": 9,
     "metadata": {},
     "output_type": "execute_result"
    }
   ],
   "source": [
    "train_df[\"keyword\"].describe()"
   ]
  },
  {
   "cell_type": "code",
   "execution_count": 10,
   "metadata": {},
   "outputs": [
    {
     "data": {
      "text/plain": [
       "fatalities               45\n",
       "deluge                   42\n",
       "armageddon               42\n",
       "sinking                  41\n",
       "damage                   41\n",
       "                         ..\n",
       "forest%20fire            19\n",
       "epicentre                12\n",
       "threat                   11\n",
       "inundation               10\n",
       "radiation%20emergency     9\n",
       "Name: keyword, Length: 221, dtype: int64"
      ]
     },
     "execution_count": 10,
     "metadata": {},
     "output_type": "execute_result"
    }
   ],
   "source": [
    "train_df[\"keyword\"].value_counts()"
   ]
  },
  {
   "cell_type": "code",
   "execution_count": 11,
   "metadata": {},
   "outputs": [
    {
     "data": {
      "text/plain": [
       "<AxesSubplot: >"
      ]
     },
     "execution_count": 11,
     "metadata": {},
     "output_type": "execute_result"
    },
    {
     "data": {
      "image/png": "[encoded data removed]",
      "text/plain": [
       "<Figure size 640x480 with 1 Axes>"
      ]
     },
     "metadata": {},
     "output_type": "display_data"
    }
   ],
   "source": [
    "train_df[\"keyword\"].value_counts().head(20).plot(kind=\"barh\")"
   ]
  },
  {
   "cell_type": "code",
   "execution_count": 12,
   "metadata": {},
   "outputs": [
    {
     "data": {
      "text/plain": [
       "([], [])"
      ]
     },
     "execution_count": 12,
     "metadata": {},
     "output_type": "execute_result"
    },
    {
     "data": {
      "image/png": "[encoded data removed]",
      "text/plain": [
       "<Figure size 640x480 with 1 Axes>"
      ]
     },
     "metadata": {},
     "output_type": "display_data"
    }
   ],
   "source": [
    "train_df[\"keyword\"].value_counts().plot(kind=\"bar\")\n",
    "plt.xticks([])"
   ]
  },
  {
   "cell_type": "code",
   "execution_count": 13,
   "metadata": {},
   "outputs": [
    {
     "data": {
      "text/plain": [
       "count    7613.00000\n",
       "mean        0.42966\n",
       "std         0.49506\n",
       "min         0.00000\n",
       "25%         0.00000\n",
       "50%         0.00000\n",
       "75%         1.00000\n",
       "max         1.00000\n",
       "Name: target, dtype: float64"
      ]
     },
     "execution_count": 13,
     "metadata": {},
     "output_type": "execute_result"
    }
   ],
   "source": [
    "train_df[\"target\"].describe()"
   ]
  },
  {
   "cell_type": "code",
   "execution_count": 14,
   "metadata": {},
   "outputs": [
    {
     "data": {
      "text/plain": [
       "<AxesSubplot: >"
      ]
     },
     "execution_count": 14,
     "metadata": {},
     "output_type": "execute_result"
    },
    {
     "data": {
      "image/png": "[encoded data removed]",
      "text/plain": [
       "<Figure size 640x480 with 1 Axes>"
      ]
     },
     "metadata": {},
     "output_type": "display_data"
    }
   ],
   "source": [
    "train_df[\"target\"].value_counts(normalize=True).plot(kind=\"bar\")"
   ]
  },
  {
   "cell_type": "code",
   "execution_count": 15,
   "metadata": {},
   "outputs": [
    {
     "data": {
      "text/plain": [
       "count                                                  7613\n",
       "unique                                                 7503\n",
       "top       11-Year-Old Boy Charged With Manslaughter of T...\n",
       "freq                                                     10\n",
       "Name: text, dtype: object"
      ]
     },
     "execution_count": 15,
     "metadata": {},
     "output_type": "execute_result"
    }
   ],
   "source": [
    "train_df[\"text\"].describe()"
   ]
  },
  {
   "cell_type": "code",
   "execution_count": 16,
   "metadata": {},
   "outputs": [
    {
     "name": "stdout",
     "output_type": "stream",
     "text": [
      "157\n",
      "The Latest: More Homes Razed by Northern California Wildfire - ABC News http://t.co/YmY4rSkQ3d\n",
      "1270\n"
     ]
    },
    {
     "data": {
      "text/plain": [
       "\"when you're taking a shower and someone flushes the toilet and you have .1 second to GTFO or you get burned??????????????????????????????????????????????????\""
      ]
     },
     "execution_count": 16,
     "metadata": {},
     "output_type": "execute_result"
    }
   ],
   "source": [
    "#checking for the maximum lenght of the tweet in a given data\n",
    "def lenght(a):\n",
    "    return len(a)\n",
    "len_max = 0\n",
    "idx = 0\n",
    "j = 0\n",
    "for i in train_df[\"text\"]:\n",
    "    if lenght(i) > len_max:\n",
    "        len_max = lenght(i)\n",
    "        idx = i\n",
    "        max = j\n",
    "    j += 1\n",
    "print(len_max)\n",
    "print(i)\n",
    "print(max)\n",
    "train_df[\"text\"][max]\n"
   ]
  },
  {
   "cell_type": "code",
   "execution_count": 17,
   "metadata": {},
   "outputs": [
    {
     "data": {
      "text/plain": [
       "0"
      ]
     },
     "execution_count": 17,
     "metadata": {},
     "output_type": "execute_result"
    }
   ],
   "source": [
    "train_df[\"target\"][1270]"
   ]
  },
  {
   "cell_type": "code",
   "execution_count": 18,
   "metadata": {},
   "outputs": [
    {
     "name": "stdout",
     "output_type": "stream",
     "text": [
      "Our Deeds are the Reason of this #earthquake May ALLAH Forgive us all 69\n",
      "Forest fire near La Ronge Sask. Canada 38\n",
      "All residents asked to 'shelter in place' are being notified by officers. No other evacuation or shelter in place orders are expected 133\n",
      "13,000 people receive #wildfires evacuation orders in California  65\n",
      "Just got sent this photo from Ruby #Alaska as smoke from #wildfires pours into a school  88\n",
      "#RockyFire Update => California Hwy. 20 closed in both directions due to Lake County fire - #CAfire #wildfires 110\n",
      "#flood #disaster Heavy rain causes flash flooding of streets in Manitou, Colorado Springs areas 95\n",
      "I'm on top of the hill and I can see a fire in the woods... 59\n",
      "There's an emergency evacuation happening now in the building across the street 79\n",
      "I'm afraid that the tornado is coming to our area... 52\n",
      "Three people died from the heat wave so far 43\n",
      "Haha South Tampa is getting flooded hah- WAIT A SECOND I LIVE IN SOUTH TAMPA WHAT AM I GONNA DO WHAT AM I GONNA DO FVCK #flooding 129\n",
      "#raining #flooding #Florida #TampaBay #Tampa 18 or 19 days. I've lost count  76\n",
      "#Flood in Bago Myanmar #We arrived Bago 39\n",
      "Damage to school bus on 80 in multi car crash #BREAKING  56\n",
      "What's up man? 14\n",
      "I love fruits 13\n",
      "Summer is lovely 16\n",
      "My car is so fast 17\n",
      "What a goooooooaaaaaal!!!!!! 28\n"
     ]
    }
   ],
   "source": [
    "for text in train_df[\"text\"].head(20):\n",
    "    print(text, len(text))"
   ]
  },
  {
   "cell_type": "code",
   "execution_count": 19,
   "metadata": {},
   "outputs": [
    {
     "data": {
      "text/plain": [
       "Text(0.5, 0, 'lenght')"
      ]
     },
     "execution_count": 19,
     "metadata": {},
     "output_type": "execute_result"
    },
    {
     "data": {
      "image/png": "[encoded data removed]",
      "text/plain": [
       "<Figure size 640x480 with 1 Axes>"
      ]
     },
     "metadata": {},
     "output_type": "display_data"
    }
   ],
   "source": [
    "train_df[\"text\"].str.len().plot(kind=\"hist\", bins = 20)\n",
    "plt.xlabel(\"lenght\")"
   ]
  },
  {
   "cell_type": "code",
   "execution_count": 20,
   "metadata": {},
   "outputs": [
    {
     "data": {
      "text/plain": [
       "Text(0.5, 0, 'Length of the text')"
      ]
     },
     "execution_count": 20,
     "metadata": {},
     "output_type": "execute_result"
    },
    {
     "data": {
      "image/png": "[encoded data removed]",
      "text/plain": [
       "<Figure size 640x480 with 1 Axes>"
      ]
     },
     "metadata": {},
     "output_type": "display_data"
    }
   ],
   "source": [
    "train_df[\"text\"].str.len().plot(kind=\"hist\", bins = 20, alpha = 0.5, label = \"All\")\n",
    "train_df[train_df[\"target\"] == 1][\"text\"].str.len().plot(kind = \"hist\", bins = 20, alpha = 0.5, label = \"Disaster\")\n",
    "plt.xlabel(\"Length of the text\")"
   ]
  },
  {
   "cell_type": "code",
   "execution_count": 21,
   "metadata": {},
   "outputs": [
    {
     "data": {
      "text/plain": [
       "[Text(0, 0, 'Not Disaster'), Text(1, 0, 'Disaster')]"
      ]
     },
     "execution_count": 21,
     "metadata": {},
     "output_type": "execute_result"
    },
    {
     "data": {
      "image/png": "[encoded data removed]",
      "text/plain": [
       "<Figure size 1200x400 with 2 Axes>"
      ]
     },
     "metadata": {},
     "output_type": "display_data"
    }
   ],
   "source": [
    "fig, ax = plt.subplots(1,2, figsize =(12,4))\n",
    "plt.suptitle(\"Distribution of the lenght of the text for the two classes\")\n",
    "sns.violinplot(x = train_df[\"target\"], y = train_df[\"text\"].str.len(), ax = ax[0])\n",
    "sns.boxplot(x=train_df['target'], y = train_df['text'].str.len(),ax = ax[1])\n",
    "ax[0].set_xticklabels(['Not Disaster', 'Disaster'])\n",
    "ax[1].set_xticklabels(['Not Disaster', 'Disaster'])"
   ]
  },
  {
   "cell_type": "code",
   "execution_count": 22,
   "metadata": {},
   "outputs": [
    {
     "data": {
      "text/plain": [
       "0                       [#]\n",
       "1                       [.]\n",
       "2                 [', ', .]\n",
       "3                    [,, #]\n",
       "4                    [#, #]\n",
       "5     [#, =, >, ., -, #, #]\n",
       "6                 [#, #, ,]\n",
       "7              [', ., ., .]\n",
       "8                       [']\n",
       "9              [', ., ., .]\n",
       "10                       []\n",
       "11                   [-, #]\n",
       "12    [#, #, #, #, #, ., ']\n",
       "13                   [#, #]\n",
       "14                      [#]\n",
       "15                   [', ?]\n",
       "16                       []\n",
       "17                       []\n",
       "18                       []\n",
       "19       [!, !, !, !, !, !]\n",
       "Name: text, dtype: object"
      ]
     },
     "execution_count": 22,
     "metadata": {},
     "output_type": "execute_result"
    }
   ],
   "source": [
    "import re\n",
    "def find_non_alphanumeric(text):\n",
    "    return re.findall(r\"[^a-zA-Z0-9 ]\", text)\n",
    "\n",
    "# Find all the non alphanumeric characters in the text\n",
    "train_df['text'].apply(find_non_alphanumeric).head(20)"
   ]
  },
  {
   "cell_type": "code",
   "execution_count": 23,
   "metadata": {},
   "outputs": [
    {
     "data": {
      "text/plain": [
       "{'\\n',\n",
       " '\\r',\n",
       " '!',\n",
       " '#',\n",
       " '$',\n",
       " '%',\n",
       " '&',\n",
       " \"'\",\n",
       " '(',\n",
       " ')',\n",
       " '*',\n",
       " '+',\n",
       " ',',\n",
       " '-',\n",
       " '.',\n",
       " '/',\n",
       " ':',\n",
       " ';',\n",
       " '=',\n",
       " '>',\n",
       " '?',\n",
       " '@',\n",
       " '[',\n",
       " '\\\\',\n",
       " ']',\n",
       " '^',\n",
       " '_',\n",
       " '`',\n",
       " '{',\n",
       " '|',\n",
       " '}',\n",
       " '~',\n",
       " '\\x89',\n",
       " '\\x9d',\n",
       " '¡',\n",
       " '¢',\n",
       " '£',\n",
       " '¤',\n",
       " '¨',\n",
       " '©',\n",
       " 'ª',\n",
       " '«',\n",
       " '¬',\n",
       " '´',\n",
       " '¼',\n",
       " 'Â',\n",
       " 'Ç',\n",
       " 'È',\n",
       " 'Ê',\n",
       " 'Ì',\n",
       " 'Ï',\n",
       " 'Ñ',\n",
       " 'Ò',\n",
       " 'Ó',\n",
       " 'Û',\n",
       " 'â',\n",
       " 'ã',\n",
       " 'å',\n",
       " '÷',\n",
       " 'ü'}"
      ]
     },
     "execution_count": 23,
     "metadata": {},
     "output_type": "execute_result"
    }
   ],
   "source": [
    "non_alphanumeric_characters = set()\n",
    "for text in train_df['text']:\n",
    "    non_alphanumeric_characters.update(find_non_alphanumeric(text))\n",
    "\n",
    "non_alphanumeric_characters"
   ]
  },
  {
   "cell_type": "code",
   "execution_count": 24,
   "metadata": {},
   "outputs": [
    {
     "name": "stdout",
     "output_type": "stream",
     "text": [
      "numbeer of different Alpha-numeric character 60\n"
     ]
    }
   ],
   "source": [
    "print(f\"numbeer of different Alpha-numeric character {len(non_alphanumeric_characters)}\")\n"
   ]
  },
  {
   "cell_type": "code",
   "execution_count": 25,
   "metadata": {},
   "outputs": [
    {
     "data": {
      "text/plain": [
       "Text(0.5, 0, 'Number of occurences')"
      ]
     },
     "execution_count": 25,
     "metadata": {},
     "output_type": "execute_result"
    },
    {
     "name": "stderr",
     "output_type": "stream",
     "text": [
      ") missing from current font.venvs\\vraj_env\\lib\\site-packages\\IPython\\core\\events.py:89: UserWarning: Glyph 13 (\n",
      "  func(*args, **kwargs)\n",
      "c:\\Users\\vrajp\\python_stuff\\venvs\\vraj_env\\lib\\site-packages\\IPython\\core\\events.py:89: UserWarning: Glyph 137 (\\x89) missing from current font.\n",
      "  func(*args, **kwargs)\n",
      ") missing from current font.venvs\\vraj_env\\lib\\site-packages\\IPython\\core\\pylabtools.py:151: UserWarning: Glyph 13 (\n",
      "  fig.canvas.print_figure(bytes_io, **kw)\n",
      "c:\\Users\\vrajp\\python_stuff\\venvs\\vraj_env\\lib\\site-packages\\IPython\\core\\pylabtools.py:151: UserWarning: Glyph 137 (\\x89) missing from current font.\n",
      "  fig.canvas.print_figure(bytes_io, **kw)\n"
     ]
    },
    {
     "data": {
      "image/png": "[encoded data removed]",
      "text/plain": [
       "<Figure size 640x480 with 1 Axes>"
      ]
     },
     "metadata": {},
     "output_type": "display_data"
    }
   ],
   "source": [
    "train_df['text'].apply(find_non_alphanumeric).explode().value_counts().head(20).plot(kind = \"barh\")\n",
    "plt.title(\"Top 20 most common non alphanumeric characters\")\n",
    "plt.xlabel(\"Number of occurences\")"
   ]
  },
  {
   "cell_type": "code",
   "execution_count": 26,
   "metadata": {},
   "outputs": [
    {
     "data": {
      "text/plain": [
       "31     @bbcmtd Wholesale Markets ablaze http://t.co/l...\n",
       "36     @PhDSquares #mufc they've built so much hype a...\n",
       "43          SOOOO PUMPED FOR ABLAZE ???? @southridgelife\n",
       "54     Noches El-Bestia '@Alexis_Sanchez: happy to se...\n",
       "57     Set our hearts ablaze and every city was a gif...\n",
       "63     @Navista7 Steve these fires out here are somet...\n",
       "65     @nxwestmidlands huge fire at Wholesale markets...\n",
       "66     @ablaze what time does your talk go until? I d...\n",
       "75     RT @SleepJunkies: Sleeping pills double your r...\n",
       "92     8/6/2015@2:09 PM: TRAFFIC ACCIDENT NO INJURY a...\n",
       "97     #BREAKING: there was a deadly motorcycle car a...\n",
       "98     @flowri were you marinading it or was it an ac...\n",
       "100    .@NorwayMFA #Bahrain police had previously die...\n",
       "102    @afterShock_DeLo scuf ps live and the game... cya\n",
       "104    320 [IR] ICEMOON [AFTERSHOCK] | http://t.co/yN...\n",
       "106    320 [IR] ICEMOON [AFTERSHOCK] | http://t.co/vA...\n",
       "108    @afterShock_DeLo im speaking from someone that...\n",
       "114    320 [IR] ICEMOON [AFTERSHOCK] | http://t.co/M4...\n",
       "115    320 [IR] ICEMOON [AFTERSHOCK] | http://t.co/vA...\n",
       "116    320 [IR] ICEMOON [AFTERSHOCK] | http://t.co/e1...\n",
       "Name: text, dtype: object"
      ]
     },
     "execution_count": 26,
     "metadata": {},
     "output_type": "execute_result"
    }
   ],
   "source": [
    "train_df[train_df['text'].str.contains(\"@\")]['text'].head(20)"
   ]
  },
  {
   "cell_type": "code",
   "execution_count": 27,
   "metadata": {},
   "outputs": [
    {
     "data": {
      "text/plain": [
       "31    @bbcmtd Wholesale Markets ablaze http://t.co/l...\n",
       "32    We always try to bring the heavy. #metal #RT h...\n",
       "33    #AFRICANBAZE: Breaking news:Nigeria flag set a...\n",
       "35    On plus side LOOK AT THE SKY LAST NIGHT IT WAS...\n",
       "37    INEC Office in Abia Set Ablaze - http://t.co/3...\n",
       "38    Barbados #Bridgetown JAMAICA ÛÒ Two cars set ...\n",
       "40    Check these out: http://t.co/rOI2NSmEJJ http:/...\n",
       "44    I wanted to set Chicago ablaze with my preachi...\n",
       "45    I gained 3 followers in the last week. You? Kn...\n",
       "46    How the West was burned: Thousands of wildfire...\n",
       "48    Check these out: http://t.co/rOI2NSmEJJ http:/...\n",
       "50    Deputies: Man shot before Brighton home set ab...\n",
       "51    Man wife get six years jail for setting ablaze...\n",
       "52    SANTA CRUZ ÛÓ Head of the St Elizabeth Police...\n",
       "53    Police: Arsonist Deliberately Set Black Church...\n",
       "54    Noches El-Bestia '@Alexis_Sanchez: happy to se...\n",
       "55    #Kurds trampling on Turkmen flag later set it ...\n",
       "56    TRUCK ABLAZE : R21. VOORTREKKER AVE. OUTSIDE O...\n",
       "57    Set our hearts ablaze and every city was a gif...\n",
       "59    How the West was burned: Thousands of wildfire...\n",
       "Name: text, dtype: object"
      ]
     },
     "execution_count": 27,
     "metadata": {},
     "output_type": "execute_result"
    }
   ],
   "source": [
    "train_df[train_df['text'].str.contains(\"/\")]['text'].head(20)"
   ]
  },
  {
   "cell_type": "code",
   "execution_count": 28,
   "metadata": {},
   "outputs": [
    {
     "data": {
      "text/plain": [
       "(id             0\n",
       " keyword       61\n",
       " location    2533\n",
       " text           0\n",
       " target         0\n",
       " dtype: int64,\n",
       " id             0\n",
       " keyword       26\n",
       " location    1105\n",
       " text           0\n",
       " dtype: int64)"
      ]
     },
     "execution_count": 28,
     "metadata": {},
     "output_type": "execute_result"
    }
   ],
   "source": [
    "train_df.isna().sum(), test_df.isna().sum()"
   ]
  },
  {
   "cell_type": "code",
   "execution_count": 29,
   "metadata": {},
   "outputs": [],
   "source": [
    "import torch \n",
    "import torch.nn as nn\n",
    "from torch.autograd import Variable\n",
    "# from torchtext.data import Field, TabularDataset, BucketIterator, Iterator\n",
    "from torch.nn.utils.rnn import pack_padded_sequence, pad_packed_sequence\n",
    "\n",
    "import torch.optim as optim\n",
    "from sklearn.metrics import accuracy_score, classification_report, confusion_matrix\n",
    "import seaborn as sns"
   ]
  },
  {
   "cell_type": "code",
   "execution_count": 30,
   "metadata": {},
   "outputs": [],
   "source": [
    "from transformers import AutoTokenizer"
   ]
  },
  {
   "cell_type": "code",
   "execution_count": 31,
   "metadata": {},
   "outputs": [
    {
     "name": "stderr",
     "output_type": "stream",
     "text": [
      "emoji is not installed, thus not converting emoticons or emojis into text. Install emoji: pip3 install emoji==0.6.0\n",
      "Special tokens have been added in the vocabulary, make sure the associated word embeddings are fine-tuned or trained.\n"
     ]
    }
   ],
   "source": [
    "tokenizer = AutoTokenizer.from_pretrained(\"vinai/bertweet-base\", use_fast = False, normalization = True)"
   ]
  },
  {
   "cell_type": "code",
   "execution_count": 32,
   "metadata": {},
   "outputs": [],
   "source": [
    "line = \"there is a fire at my place in Montreal\"\n",
    "input_ids = torch.tensor([tokenizer(line, padding=\"max_length\", max_length=64, truncation=True).input_ids])"
   ]
  },
  {
   "cell_type": "code",
   "execution_count": 130,
   "metadata": {},
   "outputs": [],
   "source": [
    "# output =torch.tensor(tokenizer.encode(line)) \n",
    "# print(output)\n",
    "# print(output.shape)\n",
    "# output = output.type(torch.DoubleTensor)\n",
    "# def scale_down(x):\n",
    "#     y = x\n",
    "#     a = torch.min(x)\n",
    "#     b = torch.max(x)\n",
    "#     for i in range(len(x)):\n",
    "#         y[i] = (x[i]-a)/(b-a)\n",
    "            \n",
    "#     return y\n",
    "# output_scaled = scale_down(output)\n",
    "# print(output_scaled)\n",
    "# embedding = nn.Embedding(20,12)\n",
    "# output = embedding(torch.tensor([0.000,1.222,9.909,0.000003]))"
   ]
  },
  {
   "cell_type": "code",
   "execution_count": 131,
   "metadata": {},
   "outputs": [],
   "source": [
    "# # x = torch.tensor([[1.0,2.0,3.0,4.0,5.0],[1.0,2.0,3.0,4.0,5.0]])\n",
    "# # print(x.shape)\n",
    "# def scale_down(x):\n",
    "#     y = x\n",
    "#     a = torch.min(x)\n",
    "#     b = torch.max(x)\n",
    "#     for i in range(x.shape[0]):\n",
    "#         for j in range(x.shape[1]):\n",
    "#             y[i,j] = (x[i,j]-a)/(b-a)\n",
    "            \n",
    "#     return y\n",
    "# # x_scaled_down = scale_down(x)\n",
    "# # print(x_scaled_down)\n"
   ]
  },
  {
   "cell_type": "code",
   "execution_count": 33,
   "metadata": {},
   "outputs": [
    {
     "name": "stdout",
     "output_type": "stream",
     "text": [
      "{'input_ids': tensor([[    0,    99,    17,    11,   999,    35,    23,   430,    16, 11596,\n",
      "             2,     1,     1,     1,     1,     1,     1,     1,     1,     1,\n",
      "             1,     1,     1,     1,     1,     1,     1,     1,     1,     1,\n",
      "             1,     1,     1,     1,     1,     1,     1,     1,     1,     1,\n",
      "             1,     1,     1,     1,     1,     1,     1,     1,     1,     1,\n",
      "             1,     1,     1,     1,     1,     1,     1,     1,     1,     1,\n",
      "             1,     1,     1,     1,     1,     1,     1,     1,     1,     1,\n",
      "             1,     1,     1,     1,     1,     1,     1,     1,     1,     1,\n",
      "             1,     1,     1,     1,     1,     1,     1,     1,     1,     1]]), 'token_type_ids': tensor([[0, 0, 0, 0, 0, 0, 0, 0, 0, 0, 0, 0, 0, 0, 0, 0, 0, 0, 0, 0, 0, 0, 0, 0,\n",
      "         0, 0, 0, 0, 0, 0, 0, 0, 0, 0, 0, 0, 0, 0, 0, 0, 0, 0, 0, 0, 0, 0, 0, 0,\n",
      "         0, 0, 0, 0, 0, 0, 0, 0, 0, 0, 0, 0, 0, 0, 0, 0, 0, 0, 0, 0, 0, 0, 0, 0,\n",
      "         0, 0, 0, 0, 0, 0, 0, 0, 0, 0, 0, 0, 0, 0, 0, 0, 0, 0]]), 'attention_mask': tensor([[1, 1, 1, 1, 1, 1, 1, 1, 1, 1, 1, 0, 0, 0, 0, 0, 0, 0, 0, 0, 0, 0, 0, 0,\n",
      "         0, 0, 0, 0, 0, 0, 0, 0, 0, 0, 0, 0, 0, 0, 0, 0, 0, 0, 0, 0, 0, 0, 0, 0,\n",
      "         0, 0, 0, 0, 0, 0, 0, 0, 0, 0, 0, 0, 0, 0, 0, 0, 0, 0, 0, 0, 0, 0, 0, 0,\n",
      "         0, 0, 0, 0, 0, 0, 0, 0, 0, 0, 0, 0, 0, 0, 0, 0, 0, 0]])}\n"
     ]
    }
   ],
   "source": [
    "output_dict = tokenizer.encode_plus(line, add_special_tokens=True, max_length=90, padding=\"max_length\", return_attention_mask=True, return_tensors=\"pt\")\n",
    "# print(output_dict.keys)\n",
    "input_ids = output_dict.input_ids\n",
    "attention_mask = output_dict.attention_mask\n",
    "print(output_dict)"
   ]
  },
  {
   "cell_type": "code",
   "execution_count": 86,
   "metadata": {},
   "outputs": [],
   "source": [
    "# print(input_ids.shape)\n",
    "# attention_mask.shape"
   ]
  },
  {
   "cell_type": "code",
   "execution_count": 156,
   "metadata": {},
   "outputs": [
    {
     "name": "stdout",
     "output_type": "stream",
     "text": [
      "tensor([[1, 2, 3],\n",
      "        [5, 6, 7]])\n",
      "tensor([[[1., 1.],\n",
      "         [2., 2.],\n",
      "         [3., 3.]],\n",
      "\n",
      "        [[5., 5.],\n",
      "         [6., 6.],\n",
      "         [7., 7.]]])\n"
     ]
    }
   ],
   "source": [
    "x = torch.tensor([[1,2,3],[5,6,7]])\n",
    "x_dummy = torch.zeros([2,3,2])\n",
    "print(x)\n",
    "for i in range(x.shape[0]):\n",
    "    for j in range(x.shape[1]):\n",
    "        x_dummy[i,j,:] = x[i,j]\n",
    "print(x_dummy)"
   ]
  },
  {
   "cell_type": "code",
   "execution_count": 70,
   "metadata": {},
   "outputs": [
    {
     "name": "stdout",
     "output_type": "stream",
     "text": [
      "7613\n",
      "torch.Size([7613, 90])\n"
     ]
    }
   ],
   "source": [
    "input_ids = []\n",
    "attention_mask = []\n",
    "\n",
    "tweets = train_df[\"text\"].to_list()\n",
    "for tweet in tweets:\n",
    "    output_dict = tokenizer.encode_plus(tweet, add_special_tokens=True, max_length=90, padding='max_length', return_attention_mask=True, return_tensors='pt')\n",
    "    # input_ids = torch.squeeze(output_dict.input_ids)\n",
    "    # for i in range(len(input_ids)):\n",
    "        # print(input_ids[i])\n",
    "        \n",
    "    # input_ids.append(model_embedding(output_dict.input_ids[:,i]))\n",
    "    input_ids.append(output_dict.input_ids)\n",
    "    attention_mask.append(output_dict.attention_mask)\n",
    "# print(input_ids)\n",
    "# print(len(input_ids))\n",
    "input_ids = torch.cat(input_ids, dim = 0)\n",
    "print(len(input_ids[:,0]))\n",
    "attention_mask = torch.cat(attention_mask, dim=0)\n",
    "# input_ids = input_ids.unsqueeze(dim=2)\n",
    "# input_ids = input_ids[:,:]\n",
    "# no_features = 256\n",
    "# dummy = torch.zeros([input_ids.shape[0], input_ids.shape[1],no_features ])\n",
    "# print(dummy)\n",
    "print(input_ids.shape)"
   ]
  },
  {
   "cell_type": "code",
   "execution_count": 148,
   "metadata": {},
   "outputs": [
    {
     "name": "stdout",
     "output_type": "stream",
     "text": [
      "tensor([[[0.0000e+00, 0.0000e+00, 0.0000e+00,  ..., 0.0000e+00,\n",
      "          0.0000e+00, 0.0000e+00],\n",
      "         [8.3000e+02, 8.3000e+02, 8.3000e+02,  ..., 8.3000e+02,\n",
      "          8.3000e+02, 8.3000e+02],\n",
      "         [4.2900e+02, 4.2900e+02, 4.2900e+02,  ..., 4.2900e+02,\n",
      "          4.2900e+02, 4.2900e+02],\n",
      "         ...,\n",
      "         [1.0000e+00, 1.0000e+00, 1.0000e+00,  ..., 1.0000e+00,\n",
      "          1.0000e+00, 1.0000e+00],\n",
      "         [1.0000e+00, 1.0000e+00, 1.0000e+00,  ..., 1.0000e+00,\n",
      "          1.0000e+00, 1.0000e+00],\n",
      "         [1.0000e+00, 1.0000e+00, 1.0000e+00,  ..., 1.0000e+00,\n",
      "          1.0000e+00, 1.0000e+00]],\n",
      "\n",
      "        [[0.0000e+00, 0.0000e+00, 0.0000e+00,  ..., 0.0000e+00,\n",
      "          0.0000e+00, 0.0000e+00],\n",
      "         [8.0460e+03, 8.0460e+03, 8.0460e+03,  ..., 8.0460e+03,\n",
      "          8.0460e+03, 8.0460e+03],\n",
      "         [9.9900e+02, 9.9900e+02, 9.9900e+02,  ..., 9.9900e+02,\n",
      "          9.9900e+02, 9.9900e+02],\n",
      "         ...,\n",
      "         [1.0000e+00, 1.0000e+00, 1.0000e+00,  ..., 1.0000e+00,\n",
      "          1.0000e+00, 1.0000e+00],\n",
      "         [1.0000e+00, 1.0000e+00, 1.0000e+00,  ..., 1.0000e+00,\n",
      "          1.0000e+00, 1.0000e+00],\n",
      "         [1.0000e+00, 1.0000e+00, 1.0000e+00,  ..., 1.0000e+00,\n",
      "          1.0000e+00, 1.0000e+00]],\n",
      "\n",
      "        [[0.0000e+00, 0.0000e+00, 0.0000e+00,  ..., 0.0000e+00,\n",
      "          0.0000e+00, 0.0000e+00],\n",
      "         [3.0800e+02, 3.0800e+02, 3.0800e+02,  ..., 3.0800e+02,\n",
      "          3.0800e+02, 3.0800e+02],\n",
      "         [6.6060e+03, 6.6060e+03, 6.6060e+03,  ..., 6.6060e+03,\n",
      "          6.6060e+03, 6.6060e+03],\n",
      "         ...,\n",
      "         [1.0000e+00, 1.0000e+00, 1.0000e+00,  ..., 1.0000e+00,\n",
      "          1.0000e+00, 1.0000e+00],\n",
      "         [1.0000e+00, 1.0000e+00, 1.0000e+00,  ..., 1.0000e+00,\n",
      "          1.0000e+00, 1.0000e+00],\n",
      "         [1.0000e+00, 1.0000e+00, 1.0000e+00,  ..., 1.0000e+00,\n",
      "          1.0000e+00, 1.0000e+00]],\n",
      "\n",
      "        ...,\n",
      "\n",
      "        [[0.0000e+00, 0.0000e+00, 0.0000e+00,  ..., 0.0000e+00,\n",
      "          0.0000e+00, 0.0000e+00],\n",
      "         [3.4738e+04, 3.4738e+04, 3.4738e+04,  ..., 3.4738e+04,\n",
      "          3.4738e+04, 3.4738e+04],\n",
      "         [4.0000e+00, 4.0000e+00, 4.0000e+00,  ..., 4.0000e+00,\n",
      "          4.0000e+00, 4.0000e+00],\n",
      "         ...,\n",
      "         [1.0000e+00, 1.0000e+00, 1.0000e+00,  ..., 1.0000e+00,\n",
      "          1.0000e+00, 1.0000e+00],\n",
      "         [1.0000e+00, 1.0000e+00, 1.0000e+00,  ..., 1.0000e+00,\n",
      "          1.0000e+00, 1.0000e+00],\n",
      "         [1.0000e+00, 1.0000e+00, 1.0000e+00,  ..., 1.0000e+00,\n",
      "          1.0000e+00, 1.0000e+00]],\n",
      "\n",
      "        [[0.0000e+00, 0.0000e+00, 0.0000e+00,  ..., 0.0000e+00,\n",
      "          0.0000e+00, 0.0000e+00],\n",
      "         [2.2820e+03, 2.2820e+03, 2.2820e+03,  ..., 2.2820e+03,\n",
      "          2.2820e+03, 2.2820e+03],\n",
      "         [1.4690e+04, 1.4690e+04, 1.4690e+04,  ..., 1.4690e+04,\n",
      "          1.4690e+04, 1.4690e+04],\n",
      "         ...,\n",
      "         [1.0000e+00, 1.0000e+00, 1.0000e+00,  ..., 1.0000e+00,\n",
      "          1.0000e+00, 1.0000e+00],\n",
      "         [1.0000e+00, 1.0000e+00, 1.0000e+00,  ..., 1.0000e+00,\n",
      "          1.0000e+00, 1.0000e+00],\n",
      "         [1.0000e+00, 1.0000e+00, 1.0000e+00,  ..., 1.0000e+00,\n",
      "          1.0000e+00, 1.0000e+00]],\n",
      "\n",
      "        [[0.0000e+00, 0.0000e+00, 0.0000e+00,  ..., 0.0000e+00,\n",
      "          0.0000e+00, 0.0000e+00],\n",
      "         [4.7000e+01, 4.7000e+01, 4.7000e+01,  ..., 4.7000e+01,\n",
      "          4.7000e+01, 4.7000e+01],\n",
      "         [4.1030e+03, 4.1030e+03, 4.1030e+03,  ..., 4.1030e+03,\n",
      "          4.1030e+03, 4.1030e+03],\n",
      "         ...,\n",
      "         [1.0000e+00, 1.0000e+00, 1.0000e+00,  ..., 1.0000e+00,\n",
      "          1.0000e+00, 1.0000e+00],\n",
      "         [1.0000e+00, 1.0000e+00, 1.0000e+00,  ..., 1.0000e+00,\n",
      "          1.0000e+00, 1.0000e+00],\n",
      "         [1.0000e+00, 1.0000e+00, 1.0000e+00,  ..., 1.0000e+00,\n",
      "          1.0000e+00, 1.0000e+00]]])\n"
     ]
    }
   ],
   "source": [
    "\n",
    "# for i in range(input_ids.shape[0]):\n",
    "#     for j in range(input_ids.shape[1]):\n",
    "#         dummy[i,j,:] = input_ids[i,j]\n",
    "\n",
    "# print(dummy)"
   ]
  },
  {
   "cell_type": "code",
   "execution_count": 135,
   "metadata": {},
   "outputs": [],
   "source": [
    "# embedding = nn.Embedding(90, 256)\n",
    "# em_dataset = TensorDataset(input_ids)\n",
    "# em_dataloader = DataLoader(em_dataset, batch_size= 32,shuffle=True)\n",
    "# for batch, data in enumerate(em_dataloader):\n",
    "#     print(data[0].size)\n",
    "#     for i in range(len(input_ids[0].shape)):\n",
    "#         for j in range(len(input_ids[1].shape)):\n",
    "#             input_ids[i,j,:] = embedding(data[0]) \n"
   ]
  },
  {
   "cell_type": "code",
   "execution_count": 56,
   "metadata": {},
   "outputs": [
    {
     "name": "stdout",
     "output_type": "stream",
     "text": [
      "7613\n"
     ]
    }
   ],
   "source": [
    "labels = train_df[\"target\"].to_list()\n",
    "print(len(labels))\n",
    "labels = torch.tensor(labels)\n",
    "# print(labels)\n"
   ]
  },
  {
   "cell_type": "code",
   "execution_count": 57,
   "metadata": {},
   "outputs": [],
   "source": [
    "# input_ids = dummy\n",
    "dataset =  TensorDataset(input_ids, labels)"
   ]
  },
  {
   "cell_type": "code",
   "execution_count": 58,
   "metadata": {},
   "outputs": [],
   "source": [
    "\n",
    "train_size = int(0.85*len(dataset))\n",
    "val_size = len(dataset) - train_size\n",
    "\n"
   ]
  },
  {
   "cell_type": "code",
   "execution_count": 71,
   "metadata": {},
   "outputs": [
    {
     "name": "stdout",
     "output_type": "stream",
     "text": [
      "0\n",
      "torch.Size([32, 90])\n",
      "torch.Size([32])\n",
      "1\n",
      "torch.Size([32, 90])\n",
      "torch.Size([32])\n",
      "2\n",
      "torch.Size([32, 90])\n",
      "torch.Size([32])\n",
      "3\n",
      "torch.Size([32, 90])\n",
      "torch.Size([32])\n",
      "4\n",
      "torch.Size([32, 90])\n",
      "torch.Size([32])\n",
      "5\n",
      "torch.Size([32, 90])\n",
      "torch.Size([32])\n",
      "6\n",
      "torch.Size([32, 90])\n",
      "torch.Size([32])\n",
      "7\n",
      "torch.Size([32, 90])\n",
      "torch.Size([32])\n",
      "8\n",
      "torch.Size([32, 90])\n",
      "torch.Size([32])\n",
      "9\n",
      "torch.Size([32, 90])\n",
      "torch.Size([32])\n",
      "10\n",
      "torch.Size([32, 90])\n",
      "torch.Size([32])\n",
      "11\n",
      "torch.Size([32, 90])\n",
      "torch.Size([32])\n",
      "12\n",
      "torch.Size([32, 90])\n",
      "torch.Size([32])\n",
      "13\n",
      "torch.Size([32, 90])\n",
      "torch.Size([32])\n",
      "14\n",
      "torch.Size([32, 90])\n",
      "torch.Size([32])\n",
      "15\n",
      "torch.Size([32, 90])\n",
      "torch.Size([32])\n",
      "16\n",
      "torch.Size([32, 90])\n",
      "torch.Size([32])\n",
      "17\n",
      "torch.Size([32, 90])\n",
      "torch.Size([32])\n",
      "18\n",
      "torch.Size([32, 90])\n",
      "torch.Size([32])\n",
      "19\n",
      "torch.Size([32, 90])\n",
      "torch.Size([32])\n",
      "20\n",
      "torch.Size([32, 90])\n",
      "torch.Size([32])\n",
      "21\n",
      "torch.Size([32, 90])\n",
      "torch.Size([32])\n",
      "22\n",
      "torch.Size([32, 90])\n",
      "torch.Size([32])\n",
      "23\n",
      "torch.Size([32, 90])\n",
      "torch.Size([32])\n",
      "24\n",
      "torch.Size([32, 90])\n",
      "torch.Size([32])\n",
      "25\n",
      "torch.Size([32, 90])\n",
      "torch.Size([32])\n",
      "26\n",
      "torch.Size([32, 90])\n",
      "torch.Size([32])\n",
      "27\n",
      "torch.Size([32, 90])\n",
      "torch.Size([32])\n",
      "28\n",
      "torch.Size([32, 90])\n",
      "torch.Size([32])\n",
      "29\n",
      "torch.Size([32, 90])\n",
      "torch.Size([32])\n",
      "30\n",
      "torch.Size([32, 90])\n",
      "torch.Size([32])\n",
      "31\n",
      "torch.Size([32, 90])\n",
      "torch.Size([32])\n",
      "32\n",
      "torch.Size([32, 90])\n",
      "torch.Size([32])\n",
      "33\n",
      "torch.Size([32, 90])\n",
      "torch.Size([32])\n",
      "34\n",
      "torch.Size([32, 90])\n",
      "torch.Size([32])\n",
      "35\n",
      "torch.Size([32, 90])\n",
      "torch.Size([32])\n",
      "36\n",
      "torch.Size([32, 90])\n",
      "torch.Size([32])\n",
      "37\n",
      "torch.Size([32, 90])\n",
      "torch.Size([32])\n",
      "38\n",
      "torch.Size([32, 90])\n",
      "torch.Size([32])\n",
      "39\n",
      "torch.Size([32, 90])\n",
      "torch.Size([32])\n",
      "40\n",
      "torch.Size([32, 90])\n",
      "torch.Size([32])\n",
      "41\n",
      "torch.Size([32, 90])\n",
      "torch.Size([32])\n",
      "42\n",
      "torch.Size([32, 90])\n",
      "torch.Size([32])\n",
      "43\n",
      "torch.Size([32, 90])\n",
      "torch.Size([32])\n",
      "44\n",
      "torch.Size([32, 90])\n",
      "torch.Size([32])\n",
      "45\n",
      "torch.Size([32, 90])\n",
      "torch.Size([32])\n",
      "46\n",
      "torch.Size([32, 90])\n",
      "torch.Size([32])\n",
      "47\n",
      "torch.Size([32, 90])\n",
      "torch.Size([32])\n",
      "48\n",
      "torch.Size([32, 90])\n",
      "torch.Size([32])\n",
      "49\n",
      "torch.Size([32, 90])\n",
      "torch.Size([32])\n",
      "50\n",
      "torch.Size([32, 90])\n",
      "torch.Size([32])\n",
      "51\n",
      "torch.Size([32, 90])\n",
      "torch.Size([32])\n",
      "52\n",
      "torch.Size([32, 90])\n",
      "torch.Size([32])\n",
      "53\n",
      "torch.Size([32, 90])\n",
      "torch.Size([32])\n",
      "54\n",
      "torch.Size([32, 90])\n",
      "torch.Size([32])\n",
      "55\n",
      "torch.Size([32, 90])\n",
      "torch.Size([32])\n",
      "56\n",
      "torch.Size([32, 90])\n",
      "torch.Size([32])\n",
      "57\n",
      "torch.Size([32, 90])\n",
      "torch.Size([32])\n",
      "58\n",
      "torch.Size([32, 90])\n",
      "torch.Size([32])\n",
      "59\n",
      "torch.Size([32, 90])\n",
      "torch.Size([32])\n",
      "60\n",
      "torch.Size([32, 90])\n",
      "torch.Size([32])\n",
      "61\n",
      "torch.Size([32, 90])\n",
      "torch.Size([32])\n",
      "62\n",
      "torch.Size([32, 90])\n",
      "torch.Size([32])\n",
      "63\n",
      "torch.Size([32, 90])\n",
      "torch.Size([32])\n",
      "64\n",
      "torch.Size([32, 90])\n",
      "torch.Size([32])\n",
      "65\n",
      "torch.Size([32, 90])\n",
      "torch.Size([32])\n",
      "66\n",
      "torch.Size([32, 90])\n",
      "torch.Size([32])\n",
      "67\n",
      "torch.Size([32, 90])\n",
      "torch.Size([32])\n",
      "68\n",
      "torch.Size([32, 90])\n",
      "torch.Size([32])\n",
      "69\n",
      "torch.Size([32, 90])\n",
      "torch.Size([32])\n",
      "70\n",
      "torch.Size([32, 90])\n",
      "torch.Size([32])\n",
      "71\n",
      "torch.Size([32, 90])\n",
      "torch.Size([32])\n",
      "72\n",
      "torch.Size([32, 90])\n",
      "torch.Size([32])\n",
      "73\n",
      "torch.Size([32, 90])\n",
      "torch.Size([32])\n",
      "74\n",
      "torch.Size([32, 90])\n",
      "torch.Size([32])\n",
      "75\n",
      "torch.Size([32, 90])\n",
      "torch.Size([32])\n",
      "76\n",
      "torch.Size([32, 90])\n",
      "torch.Size([32])\n",
      "77\n",
      "torch.Size([32, 90])\n",
      "torch.Size([32])\n",
      "78\n",
      "torch.Size([32, 90])\n",
      "torch.Size([32])\n",
      "79\n",
      "torch.Size([32, 90])\n",
      "torch.Size([32])\n",
      "80\n",
      "torch.Size([32, 90])\n",
      "torch.Size([32])\n",
      "81\n",
      "torch.Size([32, 90])\n",
      "torch.Size([32])\n",
      "82\n",
      "torch.Size([32, 90])\n",
      "torch.Size([32])\n",
      "83\n",
      "torch.Size([32, 90])\n",
      "torch.Size([32])\n",
      "84\n",
      "torch.Size([32, 90])\n",
      "torch.Size([32])\n",
      "85\n",
      "torch.Size([32, 90])\n",
      "torch.Size([32])\n",
      "86\n",
      "torch.Size([32, 90])\n",
      "torch.Size([32])\n",
      "87\n",
      "torch.Size([32, 90])\n",
      "torch.Size([32])\n",
      "88\n",
      "torch.Size([32, 90])\n",
      "torch.Size([32])\n",
      "89\n",
      "torch.Size([32, 90])\n",
      "torch.Size([32])\n",
      "90\n",
      "torch.Size([32, 90])\n",
      "torch.Size([32])\n",
      "91\n",
      "torch.Size([32, 90])\n",
      "torch.Size([32])\n",
      "92\n",
      "torch.Size([32, 90])\n",
      "torch.Size([32])\n",
      "93\n",
      "torch.Size([32, 90])\n",
      "torch.Size([32])\n",
      "94\n",
      "torch.Size([32, 90])\n",
      "torch.Size([32])\n",
      "95\n",
      "torch.Size([32, 90])\n",
      "torch.Size([32])\n",
      "96\n",
      "torch.Size([32, 90])\n",
      "torch.Size([32])\n",
      "97\n",
      "torch.Size([32, 90])\n",
      "torch.Size([32])\n",
      "98\n",
      "torch.Size([32, 90])\n",
      "torch.Size([32])\n",
      "99\n",
      "torch.Size([32, 90])\n",
      "torch.Size([32])\n",
      "100\n",
      "torch.Size([32, 90])\n",
      "torch.Size([32])\n",
      "101\n",
      "torch.Size([32, 90])\n",
      "torch.Size([32])\n",
      "102\n",
      "torch.Size([32, 90])\n",
      "torch.Size([32])\n",
      "103\n",
      "torch.Size([32, 90])\n",
      "torch.Size([32])\n",
      "104\n",
      "torch.Size([32, 90])\n",
      "torch.Size([32])\n",
      "105\n",
      "torch.Size([32, 90])\n",
      "torch.Size([32])\n",
      "106\n",
      "torch.Size([32, 90])\n",
      "torch.Size([32])\n",
      "107\n",
      "torch.Size([32, 90])\n",
      "torch.Size([32])\n",
      "108\n",
      "torch.Size([32, 90])\n",
      "torch.Size([32])\n",
      "109\n",
      "torch.Size([32, 90])\n",
      "torch.Size([32])\n",
      "110\n",
      "torch.Size([32, 90])\n",
      "torch.Size([32])\n",
      "111\n",
      "torch.Size([32, 90])\n",
      "torch.Size([32])\n",
      "112\n",
      "torch.Size([32, 90])\n",
      "torch.Size([32])\n",
      "113\n",
      "torch.Size([32, 90])\n",
      "torch.Size([32])\n",
      "114\n",
      "torch.Size([32, 90])\n",
      "torch.Size([32])\n",
      "115\n",
      "torch.Size([32, 90])\n",
      "torch.Size([32])\n",
      "116\n",
      "torch.Size([32, 90])\n",
      "torch.Size([32])\n",
      "117\n",
      "torch.Size([32, 90])\n",
      "torch.Size([32])\n",
      "118\n",
      "torch.Size([32, 90])\n",
      "torch.Size([32])\n",
      "119\n",
      "torch.Size([32, 90])\n",
      "torch.Size([32])\n",
      "120\n",
      "torch.Size([32, 90])\n",
      "torch.Size([32])\n",
      "121\n",
      "torch.Size([32, 90])\n",
      "torch.Size([32])\n",
      "122\n",
      "torch.Size([32, 90])\n",
      "torch.Size([32])\n",
      "123\n",
      "torch.Size([32, 90])\n",
      "torch.Size([32])\n",
      "124\n",
      "torch.Size([32, 90])\n",
      "torch.Size([32])\n",
      "125\n",
      "torch.Size([32, 90])\n",
      "torch.Size([32])\n",
      "126\n",
      "torch.Size([32, 90])\n",
      "torch.Size([32])\n",
      "127\n",
      "torch.Size([32, 90])\n",
      "torch.Size([32])\n",
      "128\n",
      "torch.Size([32, 90])\n",
      "torch.Size([32])\n",
      "129\n",
      "torch.Size([32, 90])\n",
      "torch.Size([32])\n",
      "130\n",
      "torch.Size([32, 90])\n",
      "torch.Size([32])\n",
      "131\n",
      "torch.Size([32, 90])\n",
      "torch.Size([32])\n",
      "132\n",
      "torch.Size([32, 90])\n",
      "torch.Size([32])\n",
      "133\n",
      "torch.Size([32, 90])\n",
      "torch.Size([32])\n",
      "134\n",
      "torch.Size([32, 90])\n",
      "torch.Size([32])\n",
      "135\n",
      "torch.Size([32, 90])\n",
      "torch.Size([32])\n",
      "136\n",
      "torch.Size([32, 90])\n",
      "torch.Size([32])\n",
      "137\n",
      "torch.Size([32, 90])\n",
      "torch.Size([32])\n",
      "138\n",
      "torch.Size([32, 90])\n",
      "torch.Size([32])\n",
      "139\n",
      "torch.Size([32, 90])\n",
      "torch.Size([32])\n",
      "140\n",
      "torch.Size([32, 90])\n",
      "torch.Size([32])\n",
      "141\n",
      "torch.Size([32, 90])\n",
      "torch.Size([32])\n",
      "142\n",
      "torch.Size([32, 90])\n",
      "torch.Size([32])\n",
      "143\n",
      "torch.Size([32, 90])\n",
      "torch.Size([32])\n",
      "144\n",
      "torch.Size([32, 90])\n",
      "torch.Size([32])\n",
      "145\n",
      "torch.Size([32, 90])\n",
      "torch.Size([32])\n",
      "146\n",
      "torch.Size([32, 90])\n",
      "torch.Size([32])\n",
      "147\n",
      "torch.Size([32, 90])\n",
      "torch.Size([32])\n",
      "148\n",
      "torch.Size([32, 90])\n",
      "torch.Size([32])\n",
      "149\n",
      "torch.Size([32, 90])\n",
      "torch.Size([32])\n",
      "150\n",
      "torch.Size([32, 90])\n",
      "torch.Size([32])\n",
      "151\n",
      "torch.Size([32, 90])\n",
      "torch.Size([32])\n",
      "152\n",
      "torch.Size([32, 90])\n",
      "torch.Size([32])\n",
      "153\n",
      "torch.Size([32, 90])\n",
      "torch.Size([32])\n",
      "154\n",
      "torch.Size([32, 90])\n",
      "torch.Size([32])\n",
      "155\n",
      "torch.Size([32, 90])\n",
      "torch.Size([32])\n",
      "156\n",
      "torch.Size([32, 90])\n",
      "torch.Size([32])\n",
      "157\n",
      "torch.Size([32, 90])\n",
      "torch.Size([32])\n",
      "158\n",
      "torch.Size([32, 90])\n",
      "torch.Size([32])\n",
      "159\n",
      "torch.Size([32, 90])\n",
      "torch.Size([32])\n",
      "160\n",
      "torch.Size([32, 90])\n",
      "torch.Size([32])\n",
      "161\n",
      "torch.Size([32, 90])\n",
      "torch.Size([32])\n",
      "162\n",
      "torch.Size([32, 90])\n",
      "torch.Size([32])\n",
      "163\n",
      "torch.Size([32, 90])\n",
      "torch.Size([32])\n",
      "164\n",
      "torch.Size([32, 90])\n",
      "torch.Size([32])\n",
      "165\n",
      "torch.Size([32, 90])\n",
      "torch.Size([32])\n",
      "166\n",
      "torch.Size([32, 90])\n",
      "torch.Size([32])\n",
      "167\n",
      "torch.Size([32, 90])\n",
      "torch.Size([32])\n",
      "168\n",
      "torch.Size([32, 90])\n",
      "torch.Size([32])\n",
      "169\n",
      "torch.Size([32, 90])\n",
      "torch.Size([32])\n",
      "170\n",
      "torch.Size([32, 90])\n",
      "torch.Size([32])\n",
      "171\n",
      "torch.Size([32, 90])\n",
      "torch.Size([32])\n",
      "172\n",
      "torch.Size([32, 90])\n",
      "torch.Size([32])\n",
      "173\n",
      "torch.Size([32, 90])\n",
      "torch.Size([32])\n",
      "174\n",
      "torch.Size([32, 90])\n",
      "torch.Size([32])\n",
      "175\n",
      "torch.Size([32, 90])\n",
      "torch.Size([32])\n",
      "176\n",
      "torch.Size([32, 90])\n",
      "torch.Size([32])\n",
      "177\n",
      "torch.Size([32, 90])\n",
      "torch.Size([32])\n",
      "178\n",
      "torch.Size([32, 90])\n",
      "torch.Size([32])\n",
      "179\n",
      "torch.Size([32, 90])\n",
      "torch.Size([32])\n",
      "180\n",
      "torch.Size([32, 90])\n",
      "torch.Size([32])\n",
      "181\n",
      "torch.Size([32, 90])\n",
      "torch.Size([32])\n",
      "182\n",
      "torch.Size([32, 90])\n",
      "torch.Size([32])\n",
      "183\n",
      "torch.Size([32, 90])\n",
      "torch.Size([32])\n",
      "184\n",
      "torch.Size([32, 90])\n",
      "torch.Size([32])\n",
      "185\n",
      "torch.Size([32, 90])\n",
      "torch.Size([32])\n",
      "186\n",
      "torch.Size([32, 90])\n",
      "torch.Size([32])\n",
      "187\n",
      "torch.Size([32, 90])\n",
      "torch.Size([32])\n",
      "188\n",
      "torch.Size([32, 90])\n",
      "torch.Size([32])\n",
      "189\n",
      "torch.Size([32, 90])\n",
      "torch.Size([32])\n",
      "190\n",
      "torch.Size([32, 90])\n",
      "torch.Size([32])\n",
      "191\n",
      "torch.Size([32, 90])\n",
      "torch.Size([32])\n",
      "192\n",
      "torch.Size([32, 90])\n",
      "torch.Size([32])\n",
      "193\n",
      "torch.Size([32, 90])\n",
      "torch.Size([32])\n",
      "194\n",
      "torch.Size([32, 90])\n",
      "torch.Size([32])\n",
      "195\n",
      "torch.Size([32, 90])\n",
      "torch.Size([32])\n",
      "196\n",
      "torch.Size([32, 90])\n",
      "torch.Size([32])\n",
      "197\n",
      "torch.Size([32, 90])\n",
      "torch.Size([32])\n",
      "198\n",
      "torch.Size([32, 90])\n",
      "torch.Size([32])\n",
      "199\n",
      "torch.Size([32, 90])\n",
      "torch.Size([32])\n",
      "200\n",
      "torch.Size([32, 90])\n",
      "torch.Size([32])\n",
      "201\n",
      "torch.Size([32, 90])\n",
      "torch.Size([32])\n",
      "202\n",
      "torch.Size([7, 90])\n",
      "torch.Size([7])\n"
     ]
    }
   ],
   "source": [
    "train_dataset, val_dataset = random_split(dataset, [train_size,val_size])\n",
    "batch_size = 32\n",
    "train_dataloader = DataLoader(train_dataset, batch_size = batch_size, shuffle=True)\n",
    "val_dataloader = DataLoader(val_dataset, batch_size=batch_size, shuffle = True)\n",
    "# embedding = nn.Embedding(90, 256)\n",
    "for (batch_id,[input,label])  in enumerate(train_dataloader):\n",
    "    print(batch_id)\n",
    "    print(input.shape)\n",
    "    print(label.shape)"
   ]
  },
  {
   "cell_type": "code",
   "execution_count": 55,
   "metadata": {},
   "outputs": [],
   "source": [
    "class LSTM(nn.Module):\n",
    "    \n",
    "    def __init__(self, dimensions=512):\n",
    "        super(LSTM,self).__init__()\n",
    "\n",
    "        self.embedding = nn.Embedding(90, 150)\n",
    "        self.dimensions = dimensions\n",
    "        self.lstm = nn.LSTM (input_size = 150,\n",
    "                            hidden_size = dimensions,\n",
    "                            num_layers = 1,\n",
    "                            batch_first = True,\n",
    "                            bidirectional = True)\n",
    "\n",
    "        self.drop = nn.Dropout(p = 0.2)\n",
    "        self.fc = nn.Linear(2*dimensions,1)\n",
    "\n",
    "\n",
    "    def forward(self, text):\n",
    "\n",
    "        text_emb = self.embedding(text)\n",
    "        packed_input = pack_padded_sequence(text_emb, len(text), batch_first=True, enforce_sorted=False)\n",
    "        packed_output, _ = self.lstm(packed_input)\n",
    "        output, _ = pack_padded_sequence(packed_output, batch_first=True)\n",
    "\n",
    "        out_forward = output[range(len(output)), len(text)-1, :self.dimensions]\n",
    "        out_reverse = output[:, 0, self.dimensions:]\n",
    "        out_reduced = torch.cat((out_forward, out_reverse), 1)\n",
    "        text_features = self.drop(out_reduced)\n",
    "\n",
    "        text_features = self.fc(text_features)\n",
    "        text_features = torch.squeeze(text_features, 1)\n",
    "        text_out = torch.sigmoid(text_features)\n",
    "\n",
    "        return text_out"
   ]
  },
  {
   "cell_type": "code",
   "execution_count": 87,
   "metadata": {},
   "outputs": [],
   "source": [
    "device = 'cpu'\n",
    "class LSTM_1(nn.Module):\n",
    "    def __init__(self, input_size,  hidden_size, layers, num_classes):\n",
    "        super(LSTM_1,self).__init__()\n",
    "        # self.embedding = nn.Embedding(90, 150)\n",
    "        self.hidden_size = hidden_size\n",
    "        self.layers = layers\n",
    "        self.lstm = nn.LSTM(input_size, hidden_size, layers, batch_first = False,\n",
    "                             bidirectional = True)\n",
    "        self.fc  = nn.Linear(hidden_size, num_classes)\n",
    "\n",
    "    def forward(self,x):\n",
    "        print(x.shape)\n",
    "        x = x.type(torch.float32)\n",
    "        # x = x.flatten(start_dim=2)\n",
    "        # print(x.shape) \n",
    "        h0 = torch.zeros(self.layers*2, self.hidden_size).to(device)\n",
    "        c0 = torch.zeros(self.layers*2, self.hidden_size).to(device)\n",
    "        h0,c0 = h0.type(torch.float32), c0.type(torch.float32)\n",
    "        print(h0.shape)\n",
    "        print(c0.shape)\n",
    "        # x = self.embedding(x)\n",
    "        out, _ = self.lstm(x,(h0,c0))\n",
    "        out = self.fc(out[:, :])\n",
    "\n",
    "        return out\n"
   ]
  },
  {
   "cell_type": "code",
   "execution_count": 86,
   "metadata": {},
   "outputs": [
    {
     "name": "stdout",
     "output_type": "stream",
     "text": [
      "torch.float32\n"
     ]
    }
   ],
   "source": [
    "print(torch.randn(10,2,3).dtype)"
   ]
  },
  {
   "cell_type": "code",
   "execution_count": 88,
   "metadata": {},
   "outputs": [],
   "source": [
    "for (batch,[data,targets])  in enumerate(train_dataloader):\n",
    "        data = data.to(device = device).squeeze()\n",
    "        targets = targets.to(device=device)\n",
    "        # print(data)\n",
    "        # print(targets)\n",
    "        # print(data.size(0))"
   ]
  },
  {
   "cell_type": "code",
   "execution_count": 89,
   "metadata": {},
   "outputs": [
    {
     "name": "stdout",
     "output_type": "stream",
     "text": [
      "torch.Size([32, 90])\n",
      "torch.Size([2, 512])\n",
      "torch.Size([2, 512])\n"
     ]
    },
    {
     "ename": "RuntimeError",
     "evalue": "mat1 and mat2 shapes cannot be multiplied (32x1024 and 512x2)",
     "output_type": "error",
     "traceback": [
      "\u001b[1;31m---------------------------------------------------------------------------\u001b[0m",
      "\u001b[1;31mRuntimeError\u001b[0m                              Traceback (most recent call last)",
      "Cell \u001b[1;32mIn [89], line 10\u001b[0m\n\u001b[0;32m      5\u001b[0m \u001b[39mfor\u001b[39;00m epoch \u001b[39min\u001b[39;00m \u001b[39mrange\u001b[39m(\u001b[39m10\u001b[39m):\n\u001b[0;32m      6\u001b[0m     \u001b[39mfor\u001b[39;00m (batch,[data,targets])  \u001b[39min\u001b[39;00m \u001b[39menumerate\u001b[39m(train_dataloader):\n\u001b[0;32m      7\u001b[0m         \u001b[39m# data = data.to(device = device).squeeze()\u001b[39;00m\n\u001b[0;32m      8\u001b[0m         \u001b[39m# targets = targets.to(device=device)\u001b[39;00m\n\u001b[0;32m      9\u001b[0m         \u001b[39m# data = data.to(torch.float32)\u001b[39;00m\n\u001b[1;32m---> 10\u001b[0m         scores \u001b[39m=\u001b[39m model_1(data)\n\u001b[0;32m     11\u001b[0m         loss \u001b[39m=\u001b[39m criterion(scores, targets)\n\u001b[0;32m     12\u001b[0m         optimizer\u001b[39m.\u001b[39mzero_grad()\n",
      "File \u001b[1;32mc:\\Users\\vrajp\\python_stuff\\venvs\\vraj_env\\lib\\site-packages\\torch\\nn\\modules\\module.py:1190\u001b[0m, in \u001b[0;36mModule._call_impl\u001b[1;34m(self, *input, **kwargs)\u001b[0m\n\u001b[0;32m   1186\u001b[0m \u001b[39m# If we don't have any hooks, we want to skip the rest of the logic in\u001b[39;00m\n\u001b[0;32m   1187\u001b[0m \u001b[39m# this function, and just call forward.\u001b[39;00m\n\u001b[0;32m   1188\u001b[0m \u001b[39mif\u001b[39;00m \u001b[39mnot\u001b[39;00m (\u001b[39mself\u001b[39m\u001b[39m.\u001b[39m_backward_hooks \u001b[39mor\u001b[39;00m \u001b[39mself\u001b[39m\u001b[39m.\u001b[39m_forward_hooks \u001b[39mor\u001b[39;00m \u001b[39mself\u001b[39m\u001b[39m.\u001b[39m_forward_pre_hooks \u001b[39mor\u001b[39;00m _global_backward_hooks\n\u001b[0;32m   1189\u001b[0m         \u001b[39mor\u001b[39;00m _global_forward_hooks \u001b[39mor\u001b[39;00m _global_forward_pre_hooks):\n\u001b[1;32m-> 1190\u001b[0m     \u001b[39mreturn\u001b[39;00m forward_call(\u001b[39m*\u001b[39m\u001b[39minput\u001b[39m, \u001b[39m*\u001b[39m\u001b[39m*\u001b[39mkwargs)\n\u001b[0;32m   1191\u001b[0m \u001b[39m# Do not call functions when jit is used\u001b[39;00m\n\u001b[0;32m   1192\u001b[0m full_backward_hooks, non_full_backward_hooks \u001b[39m=\u001b[39m [], []\n",
      "Cell \u001b[1;32mIn [87], line 24\u001b[0m, in \u001b[0;36mLSTM_1.forward\u001b[1;34m(self, x)\u001b[0m\n\u001b[0;32m     22\u001b[0m \u001b[39m# x = self.embedding(x)\u001b[39;00m\n\u001b[0;32m     23\u001b[0m out, _ \u001b[39m=\u001b[39m \u001b[39mself\u001b[39m\u001b[39m.\u001b[39mlstm(x,(h0,c0))\n\u001b[1;32m---> 24\u001b[0m out \u001b[39m=\u001b[39m \u001b[39mself\u001b[39;49m\u001b[39m.\u001b[39;49mfc(out[:, :])\n\u001b[0;32m     26\u001b[0m \u001b[39mreturn\u001b[39;00m out\n",
      "File \u001b[1;32mc:\\Users\\vrajp\\python_stuff\\venvs\\vraj_env\\lib\\site-packages\\torch\\nn\\modules\\module.py:1190\u001b[0m, in \u001b[0;36mModule._call_impl\u001b[1;34m(self, *input, **kwargs)\u001b[0m\n\u001b[0;32m   1186\u001b[0m \u001b[39m# If we don't have any hooks, we want to skip the rest of the logic in\u001b[39;00m\n\u001b[0;32m   1187\u001b[0m \u001b[39m# this function, and just call forward.\u001b[39;00m\n\u001b[0;32m   1188\u001b[0m \u001b[39mif\u001b[39;00m \u001b[39mnot\u001b[39;00m (\u001b[39mself\u001b[39m\u001b[39m.\u001b[39m_backward_hooks \u001b[39mor\u001b[39;00m \u001b[39mself\u001b[39m\u001b[39m.\u001b[39m_forward_hooks \u001b[39mor\u001b[39;00m \u001b[39mself\u001b[39m\u001b[39m.\u001b[39m_forward_pre_hooks \u001b[39mor\u001b[39;00m _global_backward_hooks\n\u001b[0;32m   1189\u001b[0m         \u001b[39mor\u001b[39;00m _global_forward_hooks \u001b[39mor\u001b[39;00m _global_forward_pre_hooks):\n\u001b[1;32m-> 1190\u001b[0m     \u001b[39mreturn\u001b[39;00m forward_call(\u001b[39m*\u001b[39m\u001b[39minput\u001b[39m, \u001b[39m*\u001b[39m\u001b[39m*\u001b[39mkwargs)\n\u001b[0;32m   1191\u001b[0m \u001b[39m# Do not call functions when jit is used\u001b[39;00m\n\u001b[0;32m   1192\u001b[0m full_backward_hooks, non_full_backward_hooks \u001b[39m=\u001b[39m [], []\n",
      "File \u001b[1;32mc:\\Users\\vrajp\\python_stuff\\venvs\\vraj_env\\lib\\site-packages\\torch\\nn\\modules\\linear.py:114\u001b[0m, in \u001b[0;36mLinear.forward\u001b[1;34m(self, input)\u001b[0m\n\u001b[0;32m    113\u001b[0m \u001b[39mdef\u001b[39;00m \u001b[39mforward\u001b[39m(\u001b[39mself\u001b[39m, \u001b[39minput\u001b[39m: Tensor) \u001b[39m-\u001b[39m\u001b[39m>\u001b[39m Tensor:\n\u001b[1;32m--> 114\u001b[0m     \u001b[39mreturn\u001b[39;00m F\u001b[39m.\u001b[39;49mlinear(\u001b[39minput\u001b[39;49m, \u001b[39mself\u001b[39;49m\u001b[39m.\u001b[39;49mweight, \u001b[39mself\u001b[39;49m\u001b[39m.\u001b[39;49mbias)\n",
      "\u001b[1;31mRuntimeError\u001b[0m: mat1 and mat2 shapes cannot be multiplied (32x1024 and 512x2)"
     ]
    }
   ],
   "source": [
    "\n",
    "model_1 = LSTM_1(input_size=90, hidden_size=512, layers=1, num_classes=2).to(device=device)\n",
    "criterion = nn.CrossEntropyLoss()\n",
    "optimizer = optim.Adam(model_1.parameters(), lr = 0.005)\n",
    "\n",
    "for epoch in range(10):\n",
    "    for (batch,[data,targets])  in enumerate(train_dataloader):\n",
    "        # data = data.to(device = device).squeeze()\n",
    "        # targets = targets.to(device=device)\n",
    "        # data = data.to(torch.float32)\n",
    "        scores = model_1(data)\n",
    "        loss = criterion(scores, targets)\n",
    "        optimizer.zero_grad()\n",
    "        loss.backward()\n",
    "\n",
    "        optimizer.step()"
   ]
  },
  {
   "cell_type": "code",
   "execution_count": 97,
   "metadata": {},
   "outputs": [],
   "source": [
    "def train(model, train_dataloader, val_dataloader, epochs = 10, lr = 1e-5, device ='cpu'):\n",
    "\n",
    "    loss_fn = torch.nn.CrossEntropyLoss()\n",
    "\n",
    "    optimizer = torch.optim.Adam(model.parameters(), lr = lr)\n",
    "\n",
    "    scheduler = torch.optim.lr_scheduler.ReduceLROnPlateau(optimizer, mode='min', factor = 0.1,verbose =True)\n",
    "\n",
    "    metrics = {\n",
    "        'train_loss': [],\n",
    "        'val_loss' : [],\n",
    "        'train_acc': [],\n",
    "        'val_acc' : []\n",
    "    }\n",
    "    pbar = tqdm(range(epochs), desc=\"Epochs\", position=0, leave = True)\n",
    "\n",
    "    for epoch, i in enumerate(pbar):\n",
    "        model.train()\n",
    "        total_loss = 0\n",
    "        total_correct = 0\n",
    "        for batch in train_dataloader:\n",
    "            input_ids, labels = batch\n",
    "            input_ids = input_ids.to(device)\n",
    "            labels = labels.to(device)\n",
    "\n",
    "            output = model(input_ids)\n",
    "            preds = torch.argmax(output, dim=1)\n",
    "\n",
    "            loss = loss_fn(preds.float(), labels.float())\n",
    "            loss.requires_grad = True\n",
    "\n",
    "            loss.backward()\n",
    "            optimizer.step()\n",
    "            optimizer.zero_grad()\n",
    "\n",
    "            total_correct += torch.sum(preds==labels)\n",
    "            total_loss += loss.item()\n",
    "        avg_train_loss = (total_loss/len(train_dataloader))\n",
    "        avg_train_acc = (total_correct.double()/len(train_dataloader)).item()\n",
    "        metrics['train_loss'].append(avg_train_loss)\n",
    "        metrics['train_acc'].append(avg_train_acc)\n",
    "\n",
    "        model.eval()\n",
    "        total_loss = 0\n",
    "        total_correct = 0\n",
    "        for batch in val_dataloader:\n",
    "\n",
    "            input_ids, labels = batch\n",
    "            input_ids = input_ids.to(device)\n",
    "            labels = labels.to(device)\n",
    "\n",
    "            outputs = model(input_ids)\n",
    "            preds = torch.argmax(outputs, dim = 1)\n",
    "            loss = loss_fn(preds.float(), labels.float())\n",
    "            total_loss += loss.item()\n",
    "            total_correct += torch.sum(preds == labels)\n",
    "\n",
    "        avg_val_loss = (total_loss/len(val_dataloader))\n",
    "        avg_val_acc = (total_correct.double()/len(val_dataloader)).item()\n",
    "        metrics['val_loss'].append(avg_val_loss)\n",
    "        metrics['val_acc'].append(avg_val_acc)\n",
    "\n",
    "        pbar.set_postfix({'train_acc': avg_train_acc, 'val_acc': avg_val_acc})\n",
    "\n",
    "        scheduler.step(avg_val_loss)\n",
    "        \n"
   ]
  },
  {
   "cell_type": "code",
   "execution_count": 102,
   "metadata": {},
   "outputs": [
    {
     "data": {
      "text/plain": [
       "90"
      ]
     },
     "execution_count": 102,
     "metadata": {},
     "output_type": "execute_result"
    }
   ],
   "source": [
    "x,y = batch\n",
    "x_1 = x[0,:]\n",
    "y_1 = y[0]\n",
    "len(x_1)\n"
   ]
  },
  {
   "cell_type": "code",
   "execution_count": 98,
   "metadata": {},
   "outputs": [
    {
     "name": "stdout",
     "output_type": "stream",
     "text": [
      "LSTM(\n",
      "  (embedding): Embedding(90, 150)\n",
      "  (lstm): LSTM(150, 512, batch_first=True, bidirectional=True)\n",
      "  (drop): Dropout(p=0.2, inplace=False)\n",
      "  (fc): Linear(in_features=1024, out_features=1, bias=True)\n",
      ")\n",
      "torch.Size([90, 150])\n",
      "torch.Size([2048, 150])\n",
      "torch.Size([2048, 512])\n",
      "torch.Size([2048])\n",
      "torch.Size([2048])\n",
      "torch.Size([2048, 150])\n",
      "torch.Size([2048, 512])\n",
      "torch.Size([2048])\n",
      "torch.Size([2048])\n",
      "torch.Size([1, 1024])\n",
      "torch.Size([1])\n"
     ]
    }
   ],
   "source": [
    "lstm = LSTM()\n",
    "print(lstm)\n",
    "parameters = list(lstm.parameters())\n",
    "for i in parameters:\n",
    "    print(i.size())\n",
    "\n"
   ]
  },
  {
   "cell_type": "code",
   "execution_count": 115,
   "metadata": {},
   "outputs": [
    {
     "ename": "IndexError",
     "evalue": "index out of range in self",
     "output_type": "error",
     "traceback": [
      "\u001b[1;31m---------------------------------------------------------------------------\u001b[0m",
      "\u001b[1;31mIndexError\u001b[0m                                Traceback (most recent call last)",
      "Cell \u001b[1;32mIn [115], line 2\u001b[0m\n\u001b[0;32m      1\u001b[0m embedding \u001b[39m=\u001b[39m nn\u001b[39m.\u001b[39mEmbedding(\u001b[39m90\u001b[39m,\u001b[39m150\u001b[39m)\n\u001b[1;32m----> 2\u001b[0m out \u001b[39m=\u001b[39m embedding(x_1)\n",
      "File \u001b[1;32mc:\\Users\\vrajp\\python_stuff\\venvs\\vraj_env\\lib\\site-packages\\torch\\nn\\modules\\module.py:1190\u001b[0m, in \u001b[0;36mModule._call_impl\u001b[1;34m(self, *input, **kwargs)\u001b[0m\n\u001b[0;32m   1186\u001b[0m \u001b[39m# If we don't have any hooks, we want to skip the rest of the logic in\u001b[39;00m\n\u001b[0;32m   1187\u001b[0m \u001b[39m# this function, and just call forward.\u001b[39;00m\n\u001b[0;32m   1188\u001b[0m \u001b[39mif\u001b[39;00m \u001b[39mnot\u001b[39;00m (\u001b[39mself\u001b[39m\u001b[39m.\u001b[39m_backward_hooks \u001b[39mor\u001b[39;00m \u001b[39mself\u001b[39m\u001b[39m.\u001b[39m_forward_hooks \u001b[39mor\u001b[39;00m \u001b[39mself\u001b[39m\u001b[39m.\u001b[39m_forward_pre_hooks \u001b[39mor\u001b[39;00m _global_backward_hooks\n\u001b[0;32m   1189\u001b[0m         \u001b[39mor\u001b[39;00m _global_forward_hooks \u001b[39mor\u001b[39;00m _global_forward_pre_hooks):\n\u001b[1;32m-> 1190\u001b[0m     \u001b[39mreturn\u001b[39;00m forward_call(\u001b[39m*\u001b[39m\u001b[39minput\u001b[39m, \u001b[39m*\u001b[39m\u001b[39m*\u001b[39mkwargs)\n\u001b[0;32m   1191\u001b[0m \u001b[39m# Do not call functions when jit is used\u001b[39;00m\n\u001b[0;32m   1192\u001b[0m full_backward_hooks, non_full_backward_hooks \u001b[39m=\u001b[39m [], []\n",
      "File \u001b[1;32mc:\\Users\\vrajp\\python_stuff\\venvs\\vraj_env\\lib\\site-packages\\torch\\nn\\modules\\sparse.py:160\u001b[0m, in \u001b[0;36mEmbedding.forward\u001b[1;34m(self, input)\u001b[0m\n\u001b[0;32m    159\u001b[0m \u001b[39mdef\u001b[39;00m \u001b[39mforward\u001b[39m(\u001b[39mself\u001b[39m, \u001b[39minput\u001b[39m: Tensor) \u001b[39m-\u001b[39m\u001b[39m>\u001b[39m Tensor:\n\u001b[1;32m--> 160\u001b[0m     \u001b[39mreturn\u001b[39;00m F\u001b[39m.\u001b[39;49membedding(\n\u001b[0;32m    161\u001b[0m         \u001b[39minput\u001b[39;49m, \u001b[39mself\u001b[39;49m\u001b[39m.\u001b[39;49mweight, \u001b[39mself\u001b[39;49m\u001b[39m.\u001b[39;49mpadding_idx, \u001b[39mself\u001b[39;49m\u001b[39m.\u001b[39;49mmax_norm,\n\u001b[0;32m    162\u001b[0m         \u001b[39mself\u001b[39;49m\u001b[39m.\u001b[39;49mnorm_type, \u001b[39mself\u001b[39;49m\u001b[39m.\u001b[39;49mscale_grad_by_freq, \u001b[39mself\u001b[39;49m\u001b[39m.\u001b[39;49msparse)\n",
      "File \u001b[1;32mc:\\Users\\vrajp\\python_stuff\\venvs\\vraj_env\\lib\\site-packages\\torch\\nn\\functional.py:2210\u001b[0m, in \u001b[0;36membedding\u001b[1;34m(input, weight, padding_idx, max_norm, norm_type, scale_grad_by_freq, sparse)\u001b[0m\n\u001b[0;32m   2204\u001b[0m     \u001b[39m# Note [embedding_renorm set_grad_enabled]\u001b[39;00m\n\u001b[0;32m   2205\u001b[0m     \u001b[39m# XXX: equivalent to\u001b[39;00m\n\u001b[0;32m   2206\u001b[0m     \u001b[39m# with torch.no_grad():\u001b[39;00m\n\u001b[0;32m   2207\u001b[0m     \u001b[39m#   torch.embedding_renorm_\u001b[39;00m\n\u001b[0;32m   2208\u001b[0m     \u001b[39m# remove once script supports set_grad_enabled\u001b[39;00m\n\u001b[0;32m   2209\u001b[0m     _no_grad_embedding_renorm_(weight, \u001b[39minput\u001b[39m, max_norm, norm_type)\n\u001b[1;32m-> 2210\u001b[0m \u001b[39mreturn\u001b[39;00m torch\u001b[39m.\u001b[39;49membedding(weight, \u001b[39minput\u001b[39;49m, padding_idx, scale_grad_by_freq, sparse)\n",
      "\u001b[1;31mIndexError\u001b[0m: index out of range in self"
     ]
    }
   ],
   "source": [
    "embedding = nn.Embedding(90,150)\n",
    "out = embedding(x_1)"
   ]
  },
  {
   "cell_type": "code",
   "execution_count": 99,
   "metadata": {},
   "outputs": [
    {
     "name": "stderr",
     "output_type": "stream",
     "text": [
      "Epochs:   0%|          | 0/10 [00:00<?, ?it/s]\n"
     ]
    },
    {
     "ename": "IndexError",
     "evalue": "index out of range in self",
     "output_type": "error",
     "traceback": [
      "\u001b[1;31m---------------------------------------------------------------------------\u001b[0m",
      "\u001b[1;31mIndexError\u001b[0m                                Traceback (most recent call last)",
      "Cell \u001b[1;32mIn [99], line 4\u001b[0m\n\u001b[0;32m      2\u001b[0m device \u001b[39m=\u001b[39m \u001b[39m'\u001b[39m\u001b[39mcuda\u001b[39m\u001b[39m'\u001b[39m \u001b[39mif\u001b[39;00m torch\u001b[39m.\u001b[39mcuda\u001b[39m.\u001b[39mis_available() \u001b[39melse\u001b[39;00m \u001b[39m'\u001b[39m\u001b[39mcpu\u001b[39m\u001b[39m'\u001b[39m\n\u001b[0;32m      3\u001b[0m lstm\u001b[39m.\u001b[39mto(device)\n\u001b[1;32m----> 4\u001b[0m metrics, lstm \u001b[39m=\u001b[39m train(lstm, train_dataloader, val_dataloader, epochs\u001b[39m=\u001b[39m\u001b[39m10\u001b[39m, lr \u001b[39m=\u001b[39m \u001b[39m1e-5\u001b[39m, device\u001b[39m=\u001b[39mdevice)\n",
      "Cell \u001b[1;32mIn [97], line 26\u001b[0m, in \u001b[0;36mtrain\u001b[1;34m(model, train_dataloader, val_dataloader, epochs, lr, device)\u001b[0m\n\u001b[0;32m     23\u001b[0m input_ids \u001b[39m=\u001b[39m input_ids\u001b[39m.\u001b[39mto(device)\n\u001b[0;32m     24\u001b[0m labels \u001b[39m=\u001b[39m labels\u001b[39m.\u001b[39mto(device)\n\u001b[1;32m---> 26\u001b[0m output \u001b[39m=\u001b[39m model(input_ids)\n\u001b[0;32m     27\u001b[0m preds \u001b[39m=\u001b[39m torch\u001b[39m.\u001b[39margmax(output, dim\u001b[39m=\u001b[39m\u001b[39m1\u001b[39m)\n\u001b[0;32m     29\u001b[0m loss \u001b[39m=\u001b[39m loss_fn(preds\u001b[39m.\u001b[39mfloat(), labels\u001b[39m.\u001b[39mfloat())\n",
      "File \u001b[1;32mc:\\Users\\vrajp\\python_stuff\\venvs\\vraj_env\\lib\\site-packages\\torch\\nn\\modules\\module.py:1190\u001b[0m, in \u001b[0;36mModule._call_impl\u001b[1;34m(self, *input, **kwargs)\u001b[0m\n\u001b[0;32m   1186\u001b[0m \u001b[39m# If we don't have any hooks, we want to skip the rest of the logic in\u001b[39;00m\n\u001b[0;32m   1187\u001b[0m \u001b[39m# this function, and just call forward.\u001b[39;00m\n\u001b[0;32m   1188\u001b[0m \u001b[39mif\u001b[39;00m \u001b[39mnot\u001b[39;00m (\u001b[39mself\u001b[39m\u001b[39m.\u001b[39m_backward_hooks \u001b[39mor\u001b[39;00m \u001b[39mself\u001b[39m\u001b[39m.\u001b[39m_forward_hooks \u001b[39mor\u001b[39;00m \u001b[39mself\u001b[39m\u001b[39m.\u001b[39m_forward_pre_hooks \u001b[39mor\u001b[39;00m _global_backward_hooks\n\u001b[0;32m   1189\u001b[0m         \u001b[39mor\u001b[39;00m _global_forward_hooks \u001b[39mor\u001b[39;00m _global_forward_pre_hooks):\n\u001b[1;32m-> 1190\u001b[0m     \u001b[39mreturn\u001b[39;00m forward_call(\u001b[39m*\u001b[39m\u001b[39minput\u001b[39m, \u001b[39m*\u001b[39m\u001b[39m*\u001b[39mkwargs)\n\u001b[0;32m   1191\u001b[0m \u001b[39m# Do not call functions when jit is used\u001b[39;00m\n\u001b[0;32m   1192\u001b[0m full_backward_hooks, non_full_backward_hooks \u001b[39m=\u001b[39m [], []\n",
      "Cell \u001b[1;32mIn [96], line 20\u001b[0m, in \u001b[0;36mLSTM.forward\u001b[1;34m(self, text)\u001b[0m\n\u001b[0;32m     18\u001b[0m \u001b[39mdef\u001b[39;00m \u001b[39mforward\u001b[39m(\u001b[39mself\u001b[39m, text):\n\u001b[1;32m---> 20\u001b[0m     text_emb \u001b[39m=\u001b[39m \u001b[39mself\u001b[39;49m\u001b[39m.\u001b[39;49membedding(text)\n\u001b[0;32m     21\u001b[0m     packed_input \u001b[39m=\u001b[39m pack_padded_sequence(text_emb, \u001b[39mlen\u001b[39m(text), batch_first\u001b[39m=\u001b[39m\u001b[39mTrue\u001b[39;00m, enforce_sorted\u001b[39m=\u001b[39m\u001b[39mFalse\u001b[39;00m)\n\u001b[0;32m     22\u001b[0m     packed_output, _ \u001b[39m=\u001b[39m \u001b[39mself\u001b[39m\u001b[39m.\u001b[39mlstm(packed_input)\n",
      "File \u001b[1;32mc:\\Users\\vrajp\\python_stuff\\venvs\\vraj_env\\lib\\site-packages\\torch\\nn\\modules\\module.py:1190\u001b[0m, in \u001b[0;36mModule._call_impl\u001b[1;34m(self, *input, **kwargs)\u001b[0m\n\u001b[0;32m   1186\u001b[0m \u001b[39m# If we don't have any hooks, we want to skip the rest of the logic in\u001b[39;00m\n\u001b[0;32m   1187\u001b[0m \u001b[39m# this function, and just call forward.\u001b[39;00m\n\u001b[0;32m   1188\u001b[0m \u001b[39mif\u001b[39;00m \u001b[39mnot\u001b[39;00m (\u001b[39mself\u001b[39m\u001b[39m.\u001b[39m_backward_hooks \u001b[39mor\u001b[39;00m \u001b[39mself\u001b[39m\u001b[39m.\u001b[39m_forward_hooks \u001b[39mor\u001b[39;00m \u001b[39mself\u001b[39m\u001b[39m.\u001b[39m_forward_pre_hooks \u001b[39mor\u001b[39;00m _global_backward_hooks\n\u001b[0;32m   1189\u001b[0m         \u001b[39mor\u001b[39;00m _global_forward_hooks \u001b[39mor\u001b[39;00m _global_forward_pre_hooks):\n\u001b[1;32m-> 1190\u001b[0m     \u001b[39mreturn\u001b[39;00m forward_call(\u001b[39m*\u001b[39m\u001b[39minput\u001b[39m, \u001b[39m*\u001b[39m\u001b[39m*\u001b[39mkwargs)\n\u001b[0;32m   1191\u001b[0m \u001b[39m# Do not call functions when jit is used\u001b[39;00m\n\u001b[0;32m   1192\u001b[0m full_backward_hooks, non_full_backward_hooks \u001b[39m=\u001b[39m [], []\n",
      "File \u001b[1;32mc:\\Users\\vrajp\\python_stuff\\venvs\\vraj_env\\lib\\site-packages\\torch\\nn\\modules\\sparse.py:160\u001b[0m, in \u001b[0;36mEmbedding.forward\u001b[1;34m(self, input)\u001b[0m\n\u001b[0;32m    159\u001b[0m \u001b[39mdef\u001b[39;00m \u001b[39mforward\u001b[39m(\u001b[39mself\u001b[39m, \u001b[39minput\u001b[39m: Tensor) \u001b[39m-\u001b[39m\u001b[39m>\u001b[39m Tensor:\n\u001b[1;32m--> 160\u001b[0m     \u001b[39mreturn\u001b[39;00m F\u001b[39m.\u001b[39;49membedding(\n\u001b[0;32m    161\u001b[0m         \u001b[39minput\u001b[39;49m, \u001b[39mself\u001b[39;49m\u001b[39m.\u001b[39;49mweight, \u001b[39mself\u001b[39;49m\u001b[39m.\u001b[39;49mpadding_idx, \u001b[39mself\u001b[39;49m\u001b[39m.\u001b[39;49mmax_norm,\n\u001b[0;32m    162\u001b[0m         \u001b[39mself\u001b[39;49m\u001b[39m.\u001b[39;49mnorm_type, \u001b[39mself\u001b[39;49m\u001b[39m.\u001b[39;49mscale_grad_by_freq, \u001b[39mself\u001b[39;49m\u001b[39m.\u001b[39;49msparse)\n",
      "File \u001b[1;32mc:\\Users\\vrajp\\python_stuff\\venvs\\vraj_env\\lib\\site-packages\\torch\\nn\\functional.py:2210\u001b[0m, in \u001b[0;36membedding\u001b[1;34m(input, weight, padding_idx, max_norm, norm_type, scale_grad_by_freq, sparse)\u001b[0m\n\u001b[0;32m   2204\u001b[0m     \u001b[39m# Note [embedding_renorm set_grad_enabled]\u001b[39;00m\n\u001b[0;32m   2205\u001b[0m     \u001b[39m# XXX: equivalent to\u001b[39;00m\n\u001b[0;32m   2206\u001b[0m     \u001b[39m# with torch.no_grad():\u001b[39;00m\n\u001b[0;32m   2207\u001b[0m     \u001b[39m#   torch.embedding_renorm_\u001b[39;00m\n\u001b[0;32m   2208\u001b[0m     \u001b[39m# remove once script supports set_grad_enabled\u001b[39;00m\n\u001b[0;32m   2209\u001b[0m     _no_grad_embedding_renorm_(weight, \u001b[39minput\u001b[39m, max_norm, norm_type)\n\u001b[1;32m-> 2210\u001b[0m \u001b[39mreturn\u001b[39;00m torch\u001b[39m.\u001b[39;49membedding(weight, \u001b[39minput\u001b[39;49m, padding_idx, scale_grad_by_freq, sparse)\n",
      "\u001b[1;31mIndexError\u001b[0m: index out of range in self"
     ]
    }
   ],
   "source": [
    "lstm = LSTM (90)\n",
    "device = 'cuda' if torch.cuda.is_available() else 'cpu'\n",
    "lstm.to(device)\n",
    "metrics, lstm = train(lstm, train_dataloader, val_dataloader, epochs=10, lr = 1e-5, device=device)\n"
   ]
  },
  {
   "cell_type": "code",
   "execution_count": 41,
   "metadata": {},
   "outputs": [],
   "source": [
    "# optimizer = torch.optim.AdamW(model.parameters(), lr = 2e-3, betas=(0.9,0.999), eps = 1e-8)\n",
    "def save_checkpoint(save_path, optimizer, valid_loss):\n",
    "\n",
    "    if save_path == None:\n",
    "        return\n",
    "    state_dict = {'model_state_dict': model.state_dict(),\n",
    "                   'optimizer_state_dict': optimizer.state_dict(),\n",
    "                   'validation_loss': valid_loss}\n",
    "\n",
    "    torch.save(state_dict,save_path)\n",
    "    print(f'Model saved to ==> {save_path}')\n",
    "\n",
    "\n",
    "def load_checkpoint(load_path, model, optimizer):\n",
    "\n",
    "    if load_path == None:\n",
    "        return\n",
    "\n",
    "    state_dict = torch.load(load_path, map_location=device)\n",
    "    print(f'Model loaded from ==> {load_path}')\n",
    "\n",
    "    model.load_state_dict(state_dict['model_state_dict'])\n",
    "    optimizer.load_state_dict(state_dict['optimizer_state_dict'])\n",
    "\n",
    "    return state_dict['validation_loss']\n",
    "\n",
    "\n",
    "def save_metrics(save_path, train_loss_list, valid_loss_list, global_steps_list):\n",
    "\n",
    "    if save_path == None:\n",
    "        return\n",
    "\n",
    "    state_dict = {'train_loss_list': train_loss_list,\n",
    "                  'valid_loss_list': valid_loss_list,\n",
    "                  'global_steps_list': global_steps_list}\n",
    "\n",
    "    torch.save(state_dict, save_path)\n",
    "    print(f'Model saved to ==> {save_path}')\n",
    "\n",
    "\n",
    "def load_metrics(load_path):\n",
    "\n",
    "    if load_path == None:\n",
    "        return\n",
    "\n",
    "    state_dict = torch.load(load_path, map_location=device)\n",
    "    print(f'Model loaded from <== {load_path}')\n",
    "\n",
    "    return state_dict['train_loss_list'], state_dict['valid_loss_list'], state_dict['global_steps_list']"
   ]
  },
  {
   "cell_type": "code",
   "execution_count": null,
   "metadata": {},
   "outputs": [],
   "source": [
    "optimizer = torch.optim.AdamW(model.parameters(), lr = 2e-4, betas = (0.9, 0.999), eps = 1e-8)"
   ]
  },
  {
   "cell_type": "code",
   "execution_count": 40,
   "metadata": {},
   "outputs": [
    {
     "ename": "NameError",
     "evalue": "name 'train_dataloader' is not defined",
     "output_type": "error",
     "traceback": [
      "\u001b[1;31m---------------------------------------------------------------------------\u001b[0m",
      "\u001b[1;31mNameError\u001b[0m                                 Traceback (most recent call last)",
      "Cell \u001b[1;32mIn [40], line 1\u001b[0m\n\u001b[1;32m----> 1\u001b[0m \u001b[39mfor\u001b[39;00m batch \u001b[39min\u001b[39;00m train_dataloader:\n\u001b[0;32m      2\u001b[0m       inputs, labels \u001b[39m=\u001b[39m batch\n\u001b[0;32m      3\u001b[0m       \u001b[39mprint\u001b[39m(inputs\u001b[39m.\u001b[39mshape)\n",
      "\u001b[1;31mNameError\u001b[0m: name 'train_dataloader' is not defined"
     ]
    }
   ],
   "source": []
  },
  {
   "cell_type": "code",
   "execution_count": 38,
   "metadata": {},
   "outputs": [],
   "source": [
    "#Tokenizer \n",
    "from transformers import AutoTokenizer\n",
    " "
   ]
  },
  {
   "cell_type": "code",
   "execution_count": 39,
   "metadata": {},
   "outputs": [
    {
     "name": "stderr",
     "output_type": "stream",
     "text": [
      "emoji is not installed, thus not converting emoticons or emojis into text. Install emoji: pip3 install emoji==0.6.0\n",
      "Special tokens have been added in the vocabulary, make sure the associated word embeddings are fine-tuned or trained.\n"
     ]
    }
   ],
   "source": [
    "tokenizer = AutoTokenizer.from_pretrained(\"vinai/bertweet-base\", use_fast = False, normalization = True )"
   ]
  },
  {
   "cell_type": "code",
   "execution_count": 41,
   "metadata": {},
   "outputs": [
    {
     "name": "stdout",
     "output_type": "stream",
     "text": [
      "64\n"
     ]
    }
   ],
   "source": [
    "max = 0\n",
    "for text in train_df[\"text\"]:\n",
    "    input_ids = tokenizer(text).input_ids\n",
    "    max = np.max((max, len(input_ids)))\n",
    "\n",
    "print(max)"
   ]
  },
  {
   "cell_type": "code",
   "execution_count": 44,
   "metadata": {},
   "outputs": [
    {
     "name": "stdout",
     "output_type": "stream",
     "text": [
      "#RockyFire Update => California Hwy. 20 closed in both directions due to Lake County fire - #CAfire #wildfires\n"
     ]
    }
   ],
   "source": [
    "print(train_df[\"text\"][5])\n",
    "output = tokenizer.encode(train_df[\"text\"][5])"
   ]
  },
  {
   "cell_type": "code",
   "execution_count": 45,
   "metadata": {},
   "outputs": [
    {
     "name": "stdout",
     "output_type": "stream",
     "text": [
      "[0, 32397, 6218, 2633, 3216, 612, 241, 2013, 24560, 4, 438, 2109, 16, 425, 11200, 1006, 9, 3682, 1641, 999, 34, 56998, 999, 45929, 9209, 2]\n"
     ]
    }
   ],
   "source": [
    "print(output)"
   ]
  }
 ],
 "metadata": {
  "kernelspec": {
   "display_name": "Python 3.10.2 ('vraj_env')",
   "language": "python",
   "name": "python3"
  },
  "language_info": {
   "codemirror_mode": {
    "name": "ipython",
    "version": 3
   },
   "file_extension": ".py",
   "mimetype": "text/x-python",
   "name": "python",
   "nbconvert_exporter": "python",
   "pygments_lexer": "ipython3",
   "version": "3.10.2"
  },
  "orig_nbformat": 4,
  "vscode": {
   "interpreter": {
    "hash": "eec488c7b091d5f7d94ea5d9efae198c852ccc492eaac797cd736fd7afffe431"
   }
  }
 },
 "nbformat": 4,
 "nbformat_minor": 2
}
